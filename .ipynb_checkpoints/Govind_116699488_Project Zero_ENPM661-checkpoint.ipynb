{
 "cells": [
  {
   "cell_type": "markdown",
   "metadata": {},
   "source": [
    "# ENPM 661 - Planning for Autonomous Robots"
   ]
  },
  {
   "cell_type": "markdown",
   "metadata": {},
   "source": [
    "## Project 0 - Introduction to Python"
   ]
  },
  {
   "cell_type": "code",
   "execution_count": 2,
   "metadata": {},
   "outputs": [],
   "source": [
    "# Github : https://github.com/govindak-umd/ENPM661"
   ]
  },
  {
   "cell_type": "markdown",
   "metadata": {},
   "source": [
    "### 1.0 Lists"
   ]
  },
  {
   "cell_type": "markdown",
   "metadata": {},
   "source": [
    "A list is a sequence of values. Lists need not be homogeneous always which makes it a most powerful tool in Python. Lists are mutable, and hence, they can be altered even after their creation. Lists in Python are ordered and have a definite count.The values in the list, also known as elements are enclosed in square brackets.For example : [25, 40, 50, 80]"
   ]
  },
  {
   "cell_type": "markdown",
   "metadata": {},
   "source": [
    "#### 1.1 Creating a List"
   ]
  },
  {
   "cell_type": "code",
   "execution_count": 3,
   "metadata": {},
   "outputs": [
    {
     "name": "stdout",
     "output_type": "stream",
     "text": [
      "1\n"
     ]
    }
   ],
   "source": [
    "#Creating a list of numbers and printing the second element:\n",
    "num_list = [0, 1, 2, 3, 4, 5]\n",
    "\n",
    "# Accessing and printing the second element\n",
    "print(num_list[1])\n",
    "# Indexing starts with 0!"
   ]
  },
  {
   "cell_type": "markdown",
   "metadata": {},
   "source": [
    "#### 1.2 Modifying the List"
   ]
  },
  {
   "cell_type": "code",
   "execution_count": 4,
   "metadata": {},
   "outputs": [
    {
     "name": "stdout",
     "output_type": "stream",
     "text": [
      "[100, 1, 2, 3, 4, 5]\n"
     ]
    }
   ],
   "source": [
    "#Modifying the first element and printing the updating list\n",
    "num_list[0] = 100\n",
    "print(num_list)"
   ]
  },
  {
   "cell_type": "markdown",
   "metadata": {},
   "source": [
    "#### 1.3 Adding a new element to the List"
   ]
  },
  {
   "cell_type": "code",
   "execution_count": 5,
   "metadata": {},
   "outputs": [
    {
     "name": "stdout",
     "output_type": "stream",
     "text": [
      "[100, 1, 2, 3, 4, 5, 10]\n"
     ]
    }
   ],
   "source": [
    "# Adding number 10\n",
    "num_list.append(10)\n",
    "print(num_list)"
   ]
  },
  {
   "cell_type": "markdown",
   "metadata": {},
   "source": [
    "#### 1.4 Removing an element from the List"
   ]
  },
  {
   "cell_type": "code",
   "execution_count": 6,
   "metadata": {},
   "outputs": [
    {
     "name": "stdout",
     "output_type": "stream",
     "text": [
      "[100, 1, 2, 3, 4, 5]\n"
     ]
    }
   ],
   "source": [
    "#Removing the last element\n",
    "# Method 1 using the in-built pop function and accessing the last element with negative index:\n",
    "num_list.pop(-1)\n",
    "print(num_list)"
   ]
  },
  {
   "cell_type": "code",
   "execution_count": 7,
   "metadata": {},
   "outputs": [
    {
     "name": "stdout",
     "output_type": "stream",
     "text": [
      "[100, 1, 2, 3, 4]\n"
     ]
    }
   ],
   "source": [
    "# Method 2 by finding the index of the last element and deleting it:\n",
    "del num_list[len(num_list)-1]\n",
    "print(num_list)"
   ]
  },
  {
   "cell_type": "markdown",
   "metadata": {},
   "source": [
    "#### 1.5 Sorting the list"
   ]
  },
  {
   "cell_type": "code",
   "execution_count": 8,
   "metadata": {},
   "outputs": [
    {
     "name": "stdout",
     "output_type": "stream",
     "text": [
      "[1, 2, 3, 4, 100]\n"
     ]
    }
   ],
   "source": [
    "num_list.sort()\n",
    "print(num_list)"
   ]
  },
  {
   "cell_type": "markdown",
   "metadata": {},
   "source": [
    "#### 1.6 Slicing the list\n",
    "Lets print the second and third element"
   ]
  },
  {
   "cell_type": "code",
   "execution_count": 9,
   "metadata": {},
   "outputs": [
    {
     "name": "stdout",
     "output_type": "stream",
     "text": [
      "[2, 3]\n"
     ]
    }
   ],
   "source": [
    "print(num_list[1:3])"
   ]
  },
  {
   "cell_type": "markdown",
   "metadata": {},
   "source": [
    "### Practice :\n",
    "Create an empty list.\\\n",
    "Append the list using a for-loop with squares of numbers from 1 to 10.\\\n",
    "Sort and reverse the list.\\\n",
    "Delete the 7th and 8th element and print the list."
   ]
  },
  {
   "cell_type": "code",
   "execution_count": 10,
   "metadata": {},
   "outputs": [
    {
     "data": {
      "text/plain": [
       "[100, 88, 81, 64, 49, 36, 23, 16, 9, 6, 4, 4, 1, 1]"
      ]
     },
     "execution_count": 10,
     "metadata": {},
     "output_type": "execute_result"
    }
   ],
   "source": [
    "#creating a practice list\n",
    "practice_list=[1,88,6,4,23]\n",
    "#adding the square of numbers for 1 to 10 to the list\n",
    "for i in range(1,11):\n",
    "    practice_list.append(i**2)\n",
    "#sorting the list\n",
    "practice_list.sort()\n",
    "#reversing the list\n",
    "practice_list.reverse()\n",
    "#deleting the 7th and the 8th element in the list\n",
    "#first slicing the list\n",
    "practice_list_1 = practice_list[:6] #slicing up until the 7th element\n",
    "practice_list_2 = practice_list[7:] #slicing from the 8th element to end\n",
    "practice_list = practice_list_1 + practice_list_2 #combining both the lists\n",
    "practice_list #displaying the new final list"
   ]
  },
  {
   "cell_type": "markdown",
   "metadata": {},
   "source": [
    "### 2.0  Tuples\n",
    "A Tuple is a collection of Python objects separated by commas. In someways a tuple is similar to a list in terms of indexing, nested objects and repetition but a tuple is immutable unlike lists which are mutable.\n",
    "\n",
    "#### 2.1 Creating tuples"
   ]
  },
  {
   "cell_type": "code",
   "execution_count": 11,
   "metadata": {},
   "outputs": [
    {
     "name": "stdout",
     "output_type": "stream",
     "text": [
      "()\n"
     ]
    }
   ],
   "source": [
    "# An empty tuple \n",
    "empty_tuple = () \n",
    "print (empty_tuple) "
   ]
  },
  {
   "cell_type": "code",
   "execution_count": 12,
   "metadata": {},
   "outputs": [
    {
     "name": "stdout",
     "output_type": "stream",
     "text": [
      "('python', 'geeks')\n",
      "('python', 'geeks')\n"
     ]
    }
   ],
   "source": [
    "# Creating non-empty tuples \n",
    "  \n",
    "# One way of creation \n",
    "tup = 'python', 'geeks'\n",
    "print(tup) \n",
    "  \n",
    "# Another for doing the same \n",
    "tup = ('python', 'geeks') \n",
    "print(tup)"
   ]
  },
  {
   "cell_type": "markdown",
   "metadata": {},
   "source": [
    "#### 2.2 Concatenation of Tuples"
   ]
  },
  {
   "cell_type": "code",
   "execution_count": 13,
   "metadata": {},
   "outputs": [
    {
     "name": "stdout",
     "output_type": "stream",
     "text": [
      "(0, 1, 2, 3, 'python', 'geek')\n"
     ]
    }
   ],
   "source": [
    "# Code for concatenating 2 tuples \n",
    "  \n",
    "tuple1 = (0, 1, 2, 3) \n",
    "tuple2 = ('python', 'geek') \n",
    "  \n",
    "# Concatenating above two \n",
    "print(tuple1 + tuple2) "
   ]
  },
  {
   "cell_type": "markdown",
   "metadata": {},
   "source": [
    "#### 2.3 Nesting of Tuples"
   ]
  },
  {
   "cell_type": "code",
   "execution_count": 14,
   "metadata": {},
   "outputs": [
    {
     "name": "stdout",
     "output_type": "stream",
     "text": [
      "((0, 1, 2, 3), ('python', 'geek'))\n"
     ]
    }
   ],
   "source": [
    "# Code for creating nested tuples \n",
    "  \n",
    "tuple1 = (0, 1, 2, 3) \n",
    "tuple2 = ('python', 'geek') \n",
    "tuple3 = (tuple1, tuple2) \n",
    "print(tuple3) "
   ]
  },
  {
   "cell_type": "markdown",
   "metadata": {},
   "source": [
    "#### 2.4 Repetition in Tuples"
   ]
  },
  {
   "cell_type": "code",
   "execution_count": 15,
   "metadata": {},
   "outputs": [
    {
     "name": "stdout",
     "output_type": "stream",
     "text": [
      "('python', 'python', 'python')\n"
     ]
    }
   ],
   "source": [
    "# Code to create a tuple with repetition \n",
    "  \n",
    "tuple3 = ('python',)*3\n",
    "print(tuple3)"
   ]
  },
  {
   "cell_type": "markdown",
   "metadata": {},
   "source": [
    "#### 2.5 Immutable Tuples"
   ]
  },
  {
   "cell_type": "code",
   "execution_count": 16,
   "metadata": {},
   "outputs": [
    {
     "ename": "TypeError",
     "evalue": "'tuple' object does not support item assignment",
     "output_type": "error",
     "traceback": [
      "\u001b[0;31m---------------------------------------------------------------------------\u001b[0m",
      "\u001b[0;31mTypeError\u001b[0m                                 Traceback (most recent call last)",
      "\u001b[0;32m<ipython-input-16-0329ed6d72fe>\u001b[0m in \u001b[0;36m<module>\u001b[0;34m\u001b[0m\n\u001b[1;32m      2\u001b[0m \u001b[0;34m\u001b[0m\u001b[0m\n\u001b[1;32m      3\u001b[0m \u001b[0mtuple1\u001b[0m \u001b[0;34m=\u001b[0m \u001b[0;34m(\u001b[0m\u001b[0;36m0\u001b[0m\u001b[0;34m,\u001b[0m \u001b[0;36m1\u001b[0m\u001b[0;34m,\u001b[0m \u001b[0;36m2\u001b[0m\u001b[0;34m,\u001b[0m \u001b[0;36m3\u001b[0m\u001b[0;34m)\u001b[0m\u001b[0;34m\u001b[0m\u001b[0;34m\u001b[0m\u001b[0m\n\u001b[0;32m----> 4\u001b[0;31m \u001b[0mtuple1\u001b[0m\u001b[0;34m[\u001b[0m\u001b[0;36m0\u001b[0m\u001b[0;34m]\u001b[0m \u001b[0;34m=\u001b[0m \u001b[0;36m4\u001b[0m\u001b[0;34m\u001b[0m\u001b[0;34m\u001b[0m\u001b[0m\n\u001b[0m\u001b[1;32m      5\u001b[0m \u001b[0mprint\u001b[0m\u001b[0;34m(\u001b[0m\u001b[0mtuple1\u001b[0m\u001b[0;34m)\u001b[0m\u001b[0;34m\u001b[0m\u001b[0;34m\u001b[0m\u001b[0m\n",
      "\u001b[0;31mTypeError\u001b[0m: 'tuple' object does not support item assignment"
     ]
    }
   ],
   "source": [
    "# Code to test that tuples are immutable (You will be getting an error message)\n",
    "  \n",
    "tuple1 = (0, 1, 2, 3) \n",
    "tuple1[0] = 4\n",
    "print(tuple1)"
   ]
  },
  {
   "cell_type": "markdown",
   "metadata": {},
   "source": [
    "#### 2.6 Slicing in Tuples"
   ]
  },
  {
   "cell_type": "code",
   "execution_count": 17,
   "metadata": {},
   "outputs": [
    {
     "name": "stdout",
     "output_type": "stream",
     "text": [
      "(1, 2, 3)\n",
      "(3, 2, 1, 0)\n",
      "(2, 3)\n"
     ]
    }
   ],
   "source": [
    "# Code to test slicing \n",
    "  \n",
    "tuple1 = (0 ,1, 2, 3) \n",
    "print(tuple1[1:]) \n",
    "print(tuple1[::-1]) \n",
    "print(tuple1[2:4])"
   ]
  },
  {
   "cell_type": "markdown",
   "metadata": {},
   "source": [
    "#### 2.7 Deleting a Tuple"
   ]
  },
  {
   "cell_type": "code",
   "execution_count": 18,
   "metadata": {},
   "outputs": [
    {
     "ename": "NameError",
     "evalue": "name 'tuple3' is not defined",
     "output_type": "error",
     "traceback": [
      "\u001b[0;31m---------------------------------------------------------------------------\u001b[0m",
      "\u001b[0;31mNameError\u001b[0m                                 Traceback (most recent call last)",
      "\u001b[0;32m<ipython-input-18-94cf3c45ae9e>\u001b[0m in \u001b[0;36m<module>\u001b[0;34m\u001b[0m\n\u001b[1;32m      3\u001b[0m \u001b[0mtuple3\u001b[0m \u001b[0;34m=\u001b[0m \u001b[0;34m(\u001b[0m\u001b[0;36m0\u001b[0m\u001b[0;34m,\u001b[0m \u001b[0;36m1\u001b[0m\u001b[0;34m)\u001b[0m\u001b[0;34m\u001b[0m\u001b[0;34m\u001b[0m\u001b[0m\n\u001b[1;32m      4\u001b[0m \u001b[0;32mdel\u001b[0m \u001b[0mtuple3\u001b[0m\u001b[0;34m\u001b[0m\u001b[0;34m\u001b[0m\u001b[0m\n\u001b[0;32m----> 5\u001b[0;31m \u001b[0mprint\u001b[0m\u001b[0;34m(\u001b[0m\u001b[0mtuple3\u001b[0m\u001b[0;34m)\u001b[0m\u001b[0;34m\u001b[0m\u001b[0;34m\u001b[0m\u001b[0m\n\u001b[0m",
      "\u001b[0;31mNameError\u001b[0m: name 'tuple3' is not defined"
     ]
    }
   ],
   "source": [
    "# Code for deleting a tuple \n",
    "  \n",
    "tuple3 = (0, 1) \n",
    "del tuple3 \n",
    "print(tuple3)"
   ]
  },
  {
   "cell_type": "markdown",
   "metadata": {},
   "source": [
    "#### 2.8 Finding Length of a Tuple"
   ]
  },
  {
   "cell_type": "code",
   "execution_count": 19,
   "metadata": {},
   "outputs": [
    {
     "name": "stdout",
     "output_type": "stream",
     "text": [
      "2\n"
     ]
    }
   ],
   "source": [
    "# Code for printing the length of a tuple \n",
    "  \n",
    "tuple2 = ('python', 'geek') \n",
    "print(len(tuple2))"
   ]
  },
  {
   "cell_type": "markdown",
   "metadata": {},
   "source": [
    "#### 2.9 Converting list to a Tuple"
   ]
  },
  {
   "cell_type": "code",
   "execution_count": 20,
   "metadata": {},
   "outputs": [
    {
     "name": "stdout",
     "output_type": "stream",
     "text": [
      "(0, 1, 2)\n",
      "('p', 'y', 't', 'h', 'o', 'n')\n"
     ]
    }
   ],
   "source": [
    "# Code for converting a list and a string into a tuple \n",
    "  \n",
    "list1 = [0, 1, 2] \n",
    "print(tuple(list1)) \n",
    "print(tuple('python')) # string 'python' "
   ]
  },
  {
   "cell_type": "markdown",
   "metadata": {},
   "source": [
    "#### 2.10 Tuples in a loop"
   ]
  },
  {
   "cell_type": "code",
   "execution_count": 21,
   "metadata": {},
   "outputs": [
    {
     "name": "stdout",
     "output_type": "stream",
     "text": [
      "(('ENPM661',),)\n",
      "((('ENPM661',),),)\n",
      "(((('ENPM661',),),),)\n",
      "((((('ENPM661',),),),),)\n",
      "(((((('ENPM661',),),),),),)\n"
     ]
    }
   ],
   "source": [
    "#python code for creating tuples in a loop \n",
    "  \n",
    "tup = ('ENPM661',) \n",
    "n = 5  #Number of time loop runs \n",
    "for i in range(int(n)): \n",
    "    tup = (tup,) \n",
    "    print(tup)"
   ]
  },
  {
   "cell_type": "markdown",
   "metadata": {},
   "source": [
    "#### 2.11 Using max() , min()"
   ]
  },
  {
   "cell_type": "code",
   "execution_count": 22,
   "metadata": {},
   "outputs": [
    {
     "name": "stdout",
     "output_type": "stream",
     "text": [
      "Maximum element in tuples 1,2: ENPM,robots\n",
      "Minimum element in tuples 1,2: 661,planning\n"
     ]
    }
   ],
   "source": [
    "# A python program to demonstrate the use of  \n",
    "# cmp(), max(), min() \n",
    "  \n",
    "tuple1 = ('ENPM', '661') \n",
    "tuple2 = ('planning', \"robots\") \n",
    " \n",
    "print ('Maximum element in tuples 1,2: ' + \n",
    "        str(max(tuple1)) +  ',' + \n",
    "        str(max(tuple2))) \n",
    "print ('Minimum element in tuples 1,2: ' + \n",
    "     str(min(tuple1)) + ','  + str(min(tuple2))) \n"
   ]
  },
  {
   "cell_type": "markdown",
   "metadata": {},
   "source": [
    "### 3.0 Dictionary\n",
    "Dictionary in Python is an unordered collection of data values, used to store data values like a map, which unlike other Data Types that hold only single value as an element, Dictionary holds key:value pair. Key value is provided in the dictionary to make it more optimized. Each key-value pair in a Dictionary is separated by a colon :, whereas each key is separated by a ‘comma’.\n",
    "\n",
    "A Dictionary in Python works similar to the Dictionary in a real world. Keys of a Dictionary must be unique and of immutable data type such as Strings, Integers and tuples, but the key-values can be repeated and be of any type.\n",
    "\n",
    "#### 3.1 Creating a Dictionary\n",
    "In Python, a Dictionary can be created by placing sequence of elements within curly {} braces, separated by ‘comma’. Dictionary holds a pair of values, one being the Key and the other corresponding pair element being its Key:value. Values in a dictionary can be of any datatype and can be duplicated, whereas keys can’t be repeated and must be immutable.\n",
    "\n",
    "Dictionary can also be created by the built-in function dict(). An empty dictionary can be created by just placing to curly braces{}."
   ]
  },
  {
   "cell_type": "code",
   "execution_count": 23,
   "metadata": {},
   "outputs": [
    {
     "name": "stdout",
     "output_type": "stream",
     "text": [
      "Empty Dictionary: \n",
      "{}\n",
      "\n",
      "Dictionary with the use of Integer Keys: \n",
      "{1: 'Geeks', 2: 'For', 3: 'Geeks'}\n",
      "\n",
      "Dictionary with the use of Mixed Keys: \n",
      "{'Name': 'Geeks', 1: [1, 2, 3, 4]}\n",
      "\n",
      "Dictionary with the use of dict(): \n",
      "{1: 'Geeks', 2: 'For', 3: 'Geeks'}\n",
      "\n",
      "Dictionary with each item as a pair: \n",
      "{1: 'Geeks', 2: 'For'}\n"
     ]
    }
   ],
   "source": [
    "# Creating an empty Dictionary \n",
    "Dict = {} \n",
    "print(\"Empty Dictionary: \") \n",
    "print(Dict) \n",
    "  \n",
    "# Creating a Dictionary  \n",
    "# with Integer Keys \n",
    "Dict = {1: 'Geeks', 2: 'For', 3: 'Geeks'} \n",
    "print(\"\\nDictionary with the use of Integer Keys: \") \n",
    "print(Dict) \n",
    "  \n",
    "# Creating a Dictionary  \n",
    "# with Mixed keys \n",
    "Dict = {'Name': 'Geeks', 1: [1, 2, 3, 4]} \n",
    "print(\"\\nDictionary with the use of Mixed Keys: \") \n",
    "print(Dict) \n",
    "  \n",
    "# Creating a Dictionary \n",
    "# with dict() method \n",
    "Dict = dict({1: 'Geeks', 2: 'For', 3:'Geeks'}) \n",
    "print(\"\\nDictionary with the use of dict(): \") \n",
    "print(Dict) \n",
    "  \n",
    "# Creating a Dictionary \n",
    "# with each item as a Pair \n",
    "Dict = dict([(1, 'Geeks'), (2, 'For')]) \n",
    "print(\"\\nDictionary with each item as a pair: \") \n",
    "print(Dict) \n"
   ]
  },
  {
   "cell_type": "markdown",
   "metadata": {},
   "source": [
    "#### 3.2 Nested Dictionary"
   ]
  },
  {
   "cell_type": "code",
   "execution_count": 24,
   "metadata": {},
   "outputs": [
    {
     "name": "stdout",
     "output_type": "stream",
     "text": [
      "{1: 'Geeks', 2: 'For', 3: {'A': 'Welcome', 'B': 'To', 'C': 'Geeks'}}\n"
     ]
    },
    {
     "data": {
      "text/plain": [
       "'Welcome'"
      ]
     },
     "execution_count": 24,
     "metadata": {},
     "output_type": "execute_result"
    }
   ],
   "source": [
    "\n",
    "# Creating a Nested Dictionary  \n",
    "# as shown in the below image \n",
    "Dict = {1: 'Geeks', 2: 'For',  \n",
    "        3:{'A' : 'Welcome', 'B' : 'To', 'C' : 'Geeks'}} \n",
    "  \n",
    "print(Dict)  \n",
    "Dict[3]['A']\n"
   ]
  },
  {
   "cell_type": "markdown",
   "metadata": {},
   "source": [
    "#### 3.3 Adding elements to a Dictionary\n",
    "In Python Dictionary, addition of elements can be done in multiple ways. One value at a time can be added to a Dictionary by defining value along with the key e.g. Dict[Key] = ‘Value’. Updating an existing value in a Dictionary can be done by using the built-in update() method. Nested key values can also be added to an existing Dictionary.\n",
    "\n",
    "Note- While adding a value, if the key value already exists, the value gets updated otherwise a new Key with the value is added to the Dictionary."
   ]
  },
  {
   "cell_type": "code",
   "execution_count": 25,
   "metadata": {},
   "outputs": [
    {
     "name": "stdout",
     "output_type": "stream",
     "text": [
      "Empty Dictionary: \n",
      "{}\n",
      "\n",
      "Dictionary after adding 3 elements: \n",
      "{0: 'Geeks', 2: 'For', 3: 1}\n",
      "\n",
      "Dictionary after adding 3 elements: \n",
      "{0: 'Geeks', 2: 'For', 3: 1, 'Value_set': (2, 3, 4)}\n",
      "\n",
      "Updated key value: \n",
      "{0: 'Geeks', 2: 'Welcome', 3: 1, 'Value_set': (2, 3, 4)}\n",
      "\n",
      "Adding a Nested Key: \n",
      "{0: 'Geeks', 2: 'Welcome', 3: 1, 'Value_set': (2, 3, 4), 5: {'Nested': {'1': 'Life', '2': 'Geeks'}}}\n"
     ]
    }
   ],
   "source": [
    "\n",
    "# Creating an empty Dictionary \n",
    "Dict = {} \n",
    "print(\"Empty Dictionary: \") \n",
    "print(Dict) \n",
    "  \n",
    "# Adding elements one at a time \n",
    "Dict[0] = 'Geeks'\n",
    "Dict[2] = 'For'\n",
    "Dict[3] = 1\n",
    "print(\"\\nDictionary after adding 3 elements: \") \n",
    "print(Dict) \n",
    "  \n",
    "# Adding set of values  \n",
    "# to a single Key \n",
    "Dict['Value_set'] = 2, 3, 4\n",
    "print(\"\\nDictionary after adding 3 elements: \") \n",
    "print(Dict) \n",
    "  \n",
    "# Updating existing Key's Value \n",
    "Dict[2] = 'Welcome'\n",
    "print(\"\\nUpdated key value: \") \n",
    "print(Dict) \n",
    "  \n",
    "# Adding Nested Key value to Dictionary \n",
    "Dict[5] = {'Nested' :{'1' : 'Life', '2' : 'Geeks'}} \n",
    "print(\"\\nAdding a Nested Key: \") \n",
    "print(Dict) \n"
   ]
  },
  {
   "cell_type": "markdown",
   "metadata": {},
   "source": [
    "#### 3.4 Accessing elements from a Dictionary\n",
    "In order to access the items of a dictionary refer to its key name.Key can be used inside square brackets.There is also a method called get() that will also help in acessing the element from a dictionary."
   ]
  },
  {
   "cell_type": "code",
   "execution_count": 26,
   "metadata": {},
   "outputs": [
    {
     "name": "stdout",
     "output_type": "stream",
     "text": [
      "Acessing a element using key:\n",
      "For\n",
      "Acessing a element using key:\n",
      "Geeks\n",
      "Acessing a element using get:\n",
      "Geeks\n"
     ]
    }
   ],
   "source": [
    "# Python program to demonstrate   \n",
    "# accesing a element from a Dictionary  \n",
    "  \n",
    "# Creating a Dictionary  \n",
    "Dict = {1: 'Geeks', 'name': 'For', 3: 'Geeks'} \n",
    "  \n",
    "# accessing a element using key \n",
    "print(\"Acessing a element using key:\") \n",
    "print(Dict['name']) \n",
    "  \n",
    "# accessing a element using key \n",
    "print(\"Acessing a element using key:\") \n",
    "print(Dict[1]) \n",
    "  \n",
    "# accessing a element using get() \n",
    "# method \n",
    "print(\"Acessing a element using get:\") \n",
    "print(Dict.get(3)) "
   ]
  },
  {
   "cell_type": "markdown",
   "metadata": {},
   "source": [
    "#### 3.5 Removing Elements from Dictionary\n",
    "In Python Dictionary, deletion of keys can be done by using the del keyword. Using del keyword, specific values from a dictionary as well as whole dictionary can be deleted. Other functions like pop() and popitem() can also be used for deleting specific values and arbitrary values from a Dictionary. All the items from a dictionary can be deleted at once by using clear() method. Items in a Nested dictionary can also be deleted by using del keyword and providing specific nested key and particular key to be deleted from that nested Dictionary. Note- del Dict will delete the entire dictionary and hence printing it after deletion will raise an Error."
   ]
  },
  {
   "cell_type": "code",
   "execution_count": 27,
   "metadata": {},
   "outputs": [
    {
     "name": "stdout",
     "output_type": "stream",
     "text": [
      "Initial Dictionary: \n",
      "{5: 'Welcome', 6: 'To', 7: 'Geeks', 'A': {1: 'Geeks', 2: 'For', 3: 'Geeks'}, 'B': {1: 'Geeks', 2: 'Life'}}\n",
      "\n",
      "Deleting a specific key: \n",
      "{5: 'Welcome', 7: 'Geeks', 'A': {1: 'Geeks', 2: 'For', 3: 'Geeks'}, 'B': {1: 'Geeks', 2: 'Life'}}\n",
      "\n",
      "Deleting a key from Nested Dictionary: \n",
      "{5: 'Welcome', 7: 'Geeks', 'A': {1: 'Geeks', 3: 'Geeks'}, 'B': {1: 'Geeks', 2: 'Life'}}\n",
      "\n",
      "Popping specific element: \n",
      "{7: 'Geeks', 'A': {1: 'Geeks', 3: 'Geeks'}, 'B': {1: 'Geeks', 2: 'Life'}}\n",
      "\n",
      "Pops an arbitrary key-value pair: \n",
      "{7: 'Geeks', 'A': {1: 'Geeks', 3: 'Geeks'}}\n",
      "\n",
      "Deleting Entire Dictionary: \n",
      "{}\n"
     ]
    }
   ],
   "source": [
    "\n",
    "# Initial Dictionary \n",
    "Dict = { 5 : 'Welcome', 6 : 'To', 7 : 'Geeks', \n",
    "        'A' : {1 : 'Geeks', 2 : 'For', 3 : 'Geeks'}, \n",
    "        'B' : {1 : 'Geeks', 2 : 'Life'}} \n",
    "print(\"Initial Dictionary: \") \n",
    "print(Dict) \n",
    "  \n",
    "# Deleting a Key value \n",
    "del Dict[6] \n",
    "print(\"\\nDeleting a specific key: \") \n",
    "print(Dict) \n",
    "  \n",
    "# Deleting a Key from \n",
    "# Nested Dictionary \n",
    "del Dict['A'][2] \n",
    "print(\"\\nDeleting a key from Nested Dictionary: \") \n",
    "print(Dict) \n",
    "  \n",
    "# Deleting a Key  \n",
    "# using pop() \n",
    "Dict.pop(5) \n",
    "print(\"\\nPopping specific element: \") \n",
    "print(Dict) \n",
    "  \n",
    "# Deleting an arbitrary Key-value pair \n",
    "# using popitem() \n",
    "Dict.popitem() \n",
    "print(\"\\nPops an arbitrary key-value pair: \") \n",
    "print(Dict) \n",
    "  \n",
    "# Deleting entire Dictionary \n",
    "Dict.clear() \n",
    "print(\"\\nDeleting Entire Dictionary: \") \n",
    "print(Dict) "
   ]
  },
  {
   "cell_type": "markdown",
   "metadata": {},
   "source": [
    "#### 3.6 Dictionary Methods\n",
    "##### 3.6.1 Copy()\n",
    "They copy() method returns a shallow copy of the dictionary.\n",
    "\n",
    "###### Syntax\n",
    "dict.copy()"
   ]
  },
  {
   "cell_type": "code",
   "execution_count": 28,
   "metadata": {},
   "outputs": [
    {
     "data": {
      "text/plain": [
       "{1: 'geeks', 2: 'for'}"
      ]
     },
     "execution_count": 28,
     "metadata": {},
     "output_type": "execute_result"
    }
   ],
   "source": [
    "original = {1:'geeks', 2:'for'} \n",
    "\n",
    "## Write code to copy \"original\" dictionary and print the newly copied dictionary\n",
    "new_dict = original.copy()\n",
    "new_dict"
   ]
  },
  {
   "cell_type": "markdown",
   "metadata": {},
   "source": [
    "##### 3.6.2 clear()\n",
    "The clear() method removes all items from the dictionary.\n",
    "\n",
    "##### Syntax\n",
    "dict.clear()"
   ]
  },
  {
   "cell_type": "code",
   "execution_count": 29,
   "metadata": {},
   "outputs": [
    {
     "data": {
      "text/plain": [
       "{}"
      ]
     },
     "execution_count": 29,
     "metadata": {},
     "output_type": "execute_result"
    }
   ],
   "source": [
    "text = {1: \"geeks\", 2: \"for\"} \n",
    "  \n",
    "# write the code to clear the content of the dictionary and then print the empty dictionary \n",
    "text.clear()\n",
    "text"
   ]
  },
  {
   "cell_type": "markdown",
   "metadata": {},
   "source": [
    "##### 3.6.3 pop()\n",
    "Python pop() method removes an element from the dictionary. It removes the element which is associated to the specified key.\n",
    "\n",
    "If specified key is present in the dictionary, it remove and return its value.\n",
    "\n",
    "If the specified key is not present, it throws an error KeyError.\n",
    "\n",
    "##### Syntax\n",
    "dict.pop(key, def)\n",
    "\n",
    "##### Parameters :\n",
    "key : The key whose key-value pair has to be returned and removed.\n",
    "\n",
    "def : The default value to return if specified key is not present."
   ]
  },
  {
   "cell_type": "code",
   "execution_count": 30,
   "metadata": {},
   "outputs": [
    {
     "name": "stdout",
     "output_type": "stream",
     "text": [
      "525\n"
     ]
    }
   ],
   "source": [
    "# Python dictionary pop() Method  \n",
    "# Creating a dictionary  \n",
    "inventory = {'shirts': 25, 'paints': 220, 'shoes': 525, 'tshirts': 217}  \n",
    "# Calling method  \n",
    "element = inventory.pop('shoes')  \n",
    "# Displaying result  \n",
    "print(element)  "
   ]
  },
  {
   "cell_type": "code",
   "execution_count": 31,
   "metadata": {},
   "outputs": [
    {
     "data": {
      "text/plain": [
       "100"
      ]
     },
     "execution_count": 31,
     "metadata": {},
     "output_type": "execute_result"
    }
   ],
   "source": [
    "inventory = {'shirts': 25, 'paints': 220, 'tshirts': 217}  \n",
    "\n",
    "# write code to get the value for the key 'shoes'. If the key is not is the dictionary return 100\n",
    "inventory.pop('shoes',100)"
   ]
  },
  {
   "cell_type": "markdown",
   "metadata": {},
   "source": [
    "##### 3.6.4 popitem()\n",
    "popitem() method in dictionary helps to achieve similar purpose. It removes the arbitrary key-value pair from the dictionary and returns it as tuple.\n",
    "\n",
    "##### Syntax\n",
    "dict.popitem()\n",
    "\n",
    "##### Parameters : None\n",
    "\n",
    "Returns : A tuple containing the arbitrary key-value pair from dictionary. That pair is removed from dictionary."
   ]
  },
  {
   "cell_type": "code",
   "execution_count": 32,
   "metadata": {},
   "outputs": [
    {
     "data": {
      "text/plain": [
       "('Akash', 2)"
      ]
     },
     "execution_count": 32,
     "metadata": {},
     "output_type": "execute_result"
    }
   ],
   "source": [
    "\n",
    "test_dict = { \"Nikhil\" : 7, \"Akshat\" : 1, \"Akash\" : 2 } \n",
    "  \n",
    "\n",
    "# write the code using popitem() to return + remove arbitrary key value pair and print it \n",
    "test_dict.popitem()"
   ]
  },
  {
   "cell_type": "markdown",
   "metadata": {},
   "source": [
    "##### 3.6.5 get()\n",
    "This method returns the value for the given key, if present in the dictionary. If not, then it will return None (if get() is used with only one argument).\n",
    "\n",
    "##### Syntax\n",
    "Dict.get(key, default=None)"
   ]
  },
  {
   "cell_type": "code",
   "execution_count": 33,
   "metadata": {},
   "outputs": [
    {
     "name": "stdout",
     "output_type": "stream",
     "text": [
      "1\n"
     ]
    },
    {
     "data": {
      "text/plain": [
       "'Not found'"
      ]
     },
     "execution_count": 33,
     "metadata": {},
     "output_type": "execute_result"
    }
   ],
   "source": [
    "dic = {\"A\":1, \"B\":2} \n",
    "print(dic.get(\"A\")) \n",
    "\n",
    "# write the code to get the value for key 'C'. Print \"Not found\" if the key is not present\n",
    "dic.get('C','Not found')"
   ]
  },
  {
   "cell_type": "markdown",
   "metadata": {},
   "source": [
    "##### 3.6.6 values()\n",
    "values() is an inbuilt method in Python programming language that returns a list of all the values available in a given dictionary.\n",
    "\n",
    "##### Syntax\n",
    "dictionary_name.values()"
   ]
  },
  {
   "cell_type": "code",
   "execution_count": 34,
   "metadata": {},
   "outputs": [
    {
     "data": {
      "text/plain": [
       "dict_values([2, 3, 4])"
      ]
     },
     "execution_count": 34,
     "metadata": {},
     "output_type": "execute_result"
    }
   ],
   "source": [
    "dictionary = {\"A\": 2, \"B\": 3, \"C\": 4} \n",
    "\n",
    "# write the code to print the values in the dictionary\n",
    "dictionary.values()"
   ]
  },
  {
   "cell_type": "markdown",
   "metadata": {},
   "source": [
    "##### 3.6.7 update()\n",
    "In Python Dictionary, update() method updates the dictionary with the elements from the another dictionary object or from an iterable of key/value pairs.\n",
    "\n",
    "##### Syntax\n",
    "dict.update([other_dictionary])\n",
    "\n",
    "Parameters: This method takes either a dictionary or an iterable object of key/value pairs (generally tuples) as parameters.\n",
    "\n",
    "Returns: It doesn’t return any value but updates the Dictionary with elements from a dictionary object or an iterable object of key/value pairs."
   ]
  },
  {
   "cell_type": "code",
   "execution_count": 35,
   "metadata": {},
   "outputs": [
    {
     "name": "stdout",
     "output_type": "stream",
     "text": [
      "Original Dictionary:\n",
      "{'A': 'Geeks', 'B': 'For'}\n",
      "{'A': 'Geeks', 'B': 'Geeks'}\n"
     ]
    }
   ],
   "source": [
    "# Dictionary with three items  \n",
    "Dictionary1 = { 'A': 'Geeks', 'B': 'For', } \n",
    "Dictionary2 = { 'B': 'Geeks' } \n",
    "  \n",
    "# Dictionary before Updation \n",
    "print(\"Original Dictionary:\") \n",
    "print(Dictionary1) \n",
    "\n",
    "# Write the code to update \"Dictionary1\" with \"Dictionary2\" and print\n",
    "Dictionary1.update(Dictionary2)\n",
    "print(Dictionary1)"
   ]
  },
  {
   "cell_type": "markdown",
   "metadata": {},
   "source": [
    "### 4.0 Loop: 'for'"
   ]
  },
  {
   "cell_type": "markdown",
   "metadata": {},
   "source": [
    "#### Creating a new List with the name \"my_list\""
   ]
  },
  {
   "cell_type": "code",
   "execution_count": 36,
   "metadata": {},
   "outputs": [],
   "source": [
    "my_list = [1, 2, 3, 4, 'Python', 'is', 'neat']"
   ]
  },
  {
   "cell_type": "markdown",
   "metadata": {},
   "source": [
    "Iterating through each term in the List. Printing each element of the List"
   ]
  },
  {
   "cell_type": "code",
   "execution_count": 37,
   "metadata": {},
   "outputs": [
    {
     "name": "stdout",
     "output_type": "stream",
     "text": [
      "1\n",
      "2\n",
      "3\n",
      "4\n",
      "Python\n",
      "is\n",
      "neat\n"
     ]
    }
   ],
   "source": [
    "for item in my_list:\n",
    "    print(item) "
   ]
  },
  {
   "cell_type": "markdown",
   "metadata": {},
   "source": [
    "#### Syntax: \"break\"\n",
    "\n",
    "Iterating through the list and if target value is reached, break.\n",
    "\n",
    "This will break and terminate the loop when the required keyword is found."
   ]
  },
  {
   "cell_type": "code",
   "execution_count": 38,
   "metadata": {},
   "outputs": [
    {
     "name": "stdout",
     "output_type": "stream",
     "text": [
      "1\n",
      "2\n",
      "3\n",
      "4\n"
     ]
    }
   ],
   "source": [
    "for item in my_list:\n",
    "    if item == 'Python':\n",
    "        break\n",
    "    print(item)"
   ]
  },
  {
   "cell_type": "markdown",
   "metadata": {},
   "source": [
    "#### Syntax \"continue\"\n",
    "\n",
    "Iterating through the list, if target is reached, move on to the next element\n",
    "\n",
    "The number '4' doesn't get printed\n",
    "\n",
    "Continue to the next item without executing the lines occuring after continue inside the loop."
   ]
  },
  {
   "cell_type": "code",
   "execution_count": 39,
   "metadata": {},
   "outputs": [
    {
     "name": "stdout",
     "output_type": "stream",
     "text": [
      "1\n",
      "2\n",
      "3\n",
      "Python\n",
      "is\n",
      "neat\n"
     ]
    }
   ],
   "source": [
    "for item in my_list:\n",
    "    if item == 4:\n",
    "        continue\n",
    "    print(item)"
   ]
  },
  {
   "cell_type": "markdown",
   "metadata": {},
   "source": [
    "#### Syntax \"enumerate\"\n",
    "\n",
    "Enumerate() method adds a counter to an iterable and returns it in a form of enumerate object. \n",
    "\n",
    "This enumerate object can then be used directly in for loops"
   ]
  },
  {
   "cell_type": "code",
   "execution_count": 40,
   "metadata": {},
   "outputs": [
    {
     "name": "stdout",
     "output_type": "stream",
     "text": [
      "idx: 0, value: 1\n",
      "idx: 1, value: 2\n",
      "idx: 2, value: 3\n",
      "idx: 3, value: 4\n",
      "idx: 4, value: Python\n",
      "idx: 5, value: is\n",
      "idx: 6, value: neat\n"
     ]
    }
   ],
   "source": [
    "for idx, val in enumerate(my_list):\n",
    "    print('idx: {}, value: {}'.format(idx, val))"
   ]
  },
  {
   "cell_type": "markdown",
   "metadata": {},
   "source": [
    "#### Syntax \"range\"\n",
    "To control the iterations of \"for loop\", range can be used."
   ]
  },
  {
   "cell_type": "code",
   "execution_count": 41,
   "metadata": {},
   "outputs": [
    {
     "name": "stdout",
     "output_type": "stream",
     "text": [
      "0\n",
      "1\n",
      "2\n",
      "3\n",
      "4\n"
     ]
    }
   ],
   "source": [
    "for number in range(5):\n",
    "    print(number)"
   ]
  },
  {
   "cell_type": "code",
   "execution_count": 42,
   "metadata": {},
   "outputs": [
    {
     "name": "stdout",
     "output_type": "stream",
     "text": [
      "2\n",
      "3\n",
      "4\n"
     ]
    }
   ],
   "source": [
    "for number in range(2, 5):\n",
    "    print(number)"
   ]
  },
  {
   "cell_type": "markdown",
   "metadata": {},
   "source": [
    "The last number '2' specifies the step size of each iteration"
   ]
  },
  {
   "cell_type": "code",
   "execution_count": 43,
   "metadata": {},
   "outputs": [
    {
     "name": "stdout",
     "output_type": "stream",
     "text": [
      "0\n",
      "2\n",
      "4\n",
      "6\n",
      "8\n"
     ]
    }
   ],
   "source": [
    "for number in range(0, 10, 2):\n",
    "    print(number)"
   ]
  },
  {
   "cell_type": "markdown",
   "metadata": {},
   "source": [
    "#### Create a list of strings based on a list of numbers\n",
    "The rules:\n",
    "\n",
    "If the number is a multiple of five and odd, the string should be 'five odd'\n",
    "\n",
    "If the number is a multiple of five and even, the string should be 'five even'\n",
    "\n",
    "If the number is odd, the string is 'odd'\n",
    "\n",
    "If the number is even, the string is 'even'\n",
    "\n",
    "(P.S. Refer textbook for mathematical operations - Section 2.5)"
   ]
  },
  {
   "cell_type": "code",
   "execution_count": 44,
   "metadata": {},
   "outputs": [],
   "source": [
    "numbers = [1, 3, 4, 6, 81, 80, 100, 95]"
   ]
  },
  {
   "cell_type": "code",
   "execution_count": 45,
   "metadata": {},
   "outputs": [
    {
     "data": {
      "text/plain": [
       "['odd', 'odd', 'even', 'even', 'odd', 'five even', 'five even', 'five odd']"
      ]
     },
     "execution_count": 45,
     "metadata": {},
     "output_type": "execute_result"
    }
   ],
   "source": [
    "# Your implementation\n",
    "my_list=[]\n",
    "for val in numbers:\n",
    "    if val%5==0 and val%2!=0:\n",
    "        my_list.append('five odd')\n",
    "    elif val%5==0 and val%2==0:\n",
    "        my_list.append('five even')\n",
    "    elif val %2 !=0:\n",
    "        my_list.append('odd')\n",
    "    else:\n",
    "        my_list.append('even')\n",
    "my_list"
   ]
  },
  {
   "cell_type": "markdown",
   "metadata": {},
   "source": [
    "Assert will cross check if the output generated is the required ouput. If not, it will throw an error"
   ]
  },
  {
   "cell_type": "code",
   "execution_count": 46,
   "metadata": {},
   "outputs": [],
   "source": [
    "assert my_list == ['odd', 'odd', 'even', 'even', 'odd', 'five even', 'five even', 'five odd']"
   ]
  },
  {
   "cell_type": "markdown",
   "metadata": {},
   "source": [
    "### Loop: 'while'\n",
    "\n",
    "With the while loop we can execute a set of statements as long as a condition is true.\n",
    "\n",
    "The while loop requires relevant variables to be ready, in this example we need to define an indexing variable, i, which we set to 1."
   ]
  },
  {
   "cell_type": "code",
   "execution_count": 47,
   "metadata": {},
   "outputs": [
    {
     "name": "stdout",
     "output_type": "stream",
     "text": [
      "1\n",
      "2\n",
      "3\n",
      "4\n",
      "5\n"
     ]
    }
   ],
   "source": [
    "i = 1\n",
    "while i < 6:\n",
    "    print(i)\n",
    "    i += 1"
   ]
  },
  {
   "cell_type": "markdown",
   "metadata": {},
   "source": [
    "With the break statement we can stop the loop even if the while condition is true:"
   ]
  },
  {
   "cell_type": "code",
   "execution_count": 48,
   "metadata": {},
   "outputs": [
    {
     "name": "stdout",
     "output_type": "stream",
     "text": [
      "1\n",
      "2\n",
      "3\n"
     ]
    }
   ],
   "source": [
    "i = 1\n",
    "while i < 6:\n",
    "    print(i)\n",
    "    if i == 3:\n",
    "        break\n",
    "    i += 1"
   ]
  },
  {
   "cell_type": "markdown",
   "metadata": {},
   "source": [
    "With the continue statement we can stop the current iteration, and continue with the next:"
   ]
  },
  {
   "cell_type": "code",
   "execution_count": 49,
   "metadata": {},
   "outputs": [
    {
     "name": "stdout",
     "output_type": "stream",
     "text": [
      "1\n",
      "2\n",
      "4\n",
      "5\n",
      "6\n"
     ]
    }
   ],
   "source": [
    "i = 0\n",
    "while i < 6:\n",
    "    i += 1\n",
    "    if i == 3:\n",
    "        continue\n",
    "    print(i)"
   ]
  },
  {
   "cell_type": "markdown",
   "metadata": {},
   "source": [
    "With the else statement we can run a block of code once when the condition no longer is true:"
   ]
  },
  {
   "cell_type": "code",
   "execution_count": 50,
   "metadata": {},
   "outputs": [
    {
     "name": "stdout",
     "output_type": "stream",
     "text": [
      "1\n",
      "2\n",
      "3\n",
      "4\n",
      "5\n",
      "i is no longer less than 6\n"
     ]
    }
   ],
   "source": [
    "i = 1\n",
    "while i < 6:\n",
    "    print(i)\n",
    "    i += 1\n",
    "else:\n",
    "    print(\"i is no longer less than 6\")"
   ]
  },
  {
   "cell_type": "markdown",
   "metadata": {},
   "source": [
    "## Plotting using Matplotlib"
   ]
  },
  {
   "cell_type": "markdown",
   "metadata": {},
   "source": [
    "matplotlib.pyplot is a collection of command style functions that make matplotlib work like MATLAB. Each pyplot function makes some change to a figure: e.g., creates a figure, creates a plotting area in a figure, plots some lines in a plotting area, decorates the plot with labels, etc."
   ]
  },
  {
   "cell_type": "code",
   "execution_count": 51,
   "metadata": {},
   "outputs": [
    {
     "data": {
      "text/plain": [
       "<Figure size 640x480 with 1 Axes>"
      ]
     },
     "metadata": {},
     "output_type": "display_data"
    }
   ],
   "source": [
    "import matplotlib.pyplot as plt\n",
    "plt.plot([1, 2, 3, 4])\n",
    "plt.ylabel('some numbers')\n",
    "plt.show()"
   ]
  },
  {
   "cell_type": "markdown",
   "metadata": {},
   "source": [
    "#### Formatting the style of your plot\n",
    "For every x, y pair of arguments, there is an optional third argument which is the format string that indicates the color and line type of the plot. The letters and symbols of the format string are from MATLAB, and you concatenate a color string with a line style string. The default format string is 'b-', which is a solid blue line. For example, to plot the above with red circles, you would issue"
   ]
  },
  {
   "cell_type": "code",
   "execution_count": 52,
   "metadata": {},
   "outputs": [
    {
     "data": {
      "image/png": "[encoded data removed]",
      "text/plain": [
       "<Figure size 432x288 with 1 Axes>"
      ]
     },
     "metadata": {
      "needs_background": "light"
     },
     "output_type": "display_data"
    }
   ],
   "source": [
    "plt.plot([1, 2, 3, 4], [1, 4, 9, 16], 'bo')\n",
    "plt.axis([0, 6, 0, 20])\n",
    "plt.show()"
   ]
  },
  {
   "cell_type": "markdown",
   "metadata": {},
   "source": [
    "If matplotlib were limited to working with lists, it would be fairly useless for numeric processing. Generally, you will use numpy arrays. In fact, all sequences are converted to numpy arrays internally. The example below illustrates a plotting several lines with different format styles in one command using arrays."
   ]
  },
  {
   "cell_type": "code",
   "execution_count": 53,
   "metadata": {},
   "outputs": [
    {
     "data": {
      "image/png": "[encoded data removed]",
      "text/plain": [
       "<Figure size 432x288 with 1 Axes>"
      ]
     },
     "metadata": {
      "needs_background": "light"
     },
     "output_type": "display_data"
    }
   ],
   "source": [
    "import numpy as np\n",
    "\n",
    "# evenly sampled time at 200ms intervals\n",
    "t = np.arange(0., 5., 0.2)\n",
    "\n",
    "# red dashes, blue squares and green triangles\n",
    "plt.plot(t, t, 'r--', t, t**2, 'bs', t, t**3, 'g^')\n",
    "plt.show()\n"
   ]
  },
  {
   "cell_type": "code",
   "execution_count": null,
   "metadata": {},
   "outputs": [],
   "source": []
  },
  {
   "cell_type": "code",
   "execution_count": null,
   "metadata": {},
   "outputs": [],
   "source": []
  },
  {
   "cell_type": "code",
   "execution_count": null,
   "metadata": {},
   "outputs": [],
   "source": []
  }
 ],
 "metadata": {
  "kernelspec": {
   "display_name": "Python 3",
   "language": "python",
   "name": "python3"
  },
  "language_info": {
   "codemirror_mode": {
    "name": "ipython",
    "version": 3
   },
   "file_extension": ".py",
   "mimetype": "text/x-python",
   "name": "python",
   "nbconvert_exporter": "python",
   "pygments_lexer": "ipython3",
   "version": "3.7.4"
  }
 },
 "nbformat": 4,
 "nbformat_minor": 2
}
