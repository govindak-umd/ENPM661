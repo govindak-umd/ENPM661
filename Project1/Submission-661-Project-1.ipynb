{
 "cells": [
  {
   "cell_type": "markdown",
   "metadata": {},
   "source": [
    "# Govind Ajith Kumar | ENPM661 | Project 1"
   ]
  },
  {
   "cell_type": "code",
   "execution_count": 1,
   "metadata": {},
   "outputs": [],
   "source": [
    "# github repo: "
   ]
  },
  {
   "cell_type": "code",
   "execution_count": 2,
   "metadata": {},
   "outputs": [],
   "source": [
    "#Importing all the libraries\n",
    "import numpy as np\n",
    "import copy\n",
    "import ast #for converting strings of lists, to pure lists"
   ]
  },
  {
   "cell_type": "code",
   "execution_count": 3,
   "metadata": {},
   "outputs": [],
   "source": [
    "def PrintMatrix(k):#num from 0 to 8 and position from 0 to 9\n",
    "    list_of_num=np.array([k]) #converting the input list to a 3 by 3 matrix\n",
    "    if len(list_of_num) ==9: #checking if there are 9 elements\n",
    "        for i in range(0,len(list_of_num),3):\n",
    "            k.append(list_of_num[i]) #appending to the first row\n",
    "            k.append(list_of_num[i+1]) #appending to the second row\n",
    "            k.append(list_of_num[i+2]) #appending to the third row\n",
    "            i+=1 #incrementing counter\n",
    "    k=np.reshape(k,(3,3)) #reshaping to a 3 by 3 matrix\n",
    "    return(k) #outputting the 3 by 3 matrix"
   ]
  },
  {
   "cell_type": "code",
   "execution_count": 4,
   "metadata": {},
   "outputs": [],
   "source": [
    "def BlankTileLocation(curr_node): #to find the position of zero in the matrix\n",
    "    curr_node=np.reshape(curr_node,(3,3))\n",
    "    for i in range(0,3):\n",
    "        for j in range(0,3):\n",
    "            if curr_node[i][j]==0:\n",
    "                row=i#saving the row\n",
    "                col=j#saving the column\n",
    "    return([row,col]) #returns the row and column number of zero"
   ]
  },
  {
   "cell_type": "code",
   "execution_count": 5,
   "metadata": {},
   "outputs": [],
   "source": [
    "def ActionMoveLeft(curr_node):\n",
    "    r=BlankTileLocation(curr_node)[0]#row of zero\n",
    "    c=BlankTileLocation(curr_node)[1]#column of zero\n",
    "    if c!=0:\n",
    "        curr_node[r][c-1],curr_node[r][c] = curr_node[r][c],curr_node[r][c-1]#swapping elements\n",
    "        return(curr_node,True)#returning the current node and True, if Left is possible\n",
    "    else:\n",
    "        return(curr_node,False)#returning the current node and False, if Left is IMpossible"
   ]
  },
  {
   "cell_type": "code",
   "execution_count": 6,
   "metadata": {},
   "outputs": [],
   "source": [
    "def ActionMoveRight(curr_node):\n",
    "    r=BlankTileLocation(curr_node)[0]#row of zero\n",
    "    c=BlankTileLocation(curr_node)[1]#column of zero\n",
    "    if c!=2:\n",
    "        curr_node[r][c+1],curr_node[r][c] = curr_node[r][c],curr_node[r][c+1] #swapping elements\n",
    "        return(curr_node,True)#returning the current node and True, if Right is possible\n",
    "    else:\n",
    "        return(curr_node,False)#returning the current node and False, if Right is IMpossible"
   ]
  },
  {
   "cell_type": "code",
   "execution_count": 7,
   "metadata": {},
   "outputs": [],
   "source": [
    "def ActionMoveUp(curr_node):\n",
    "    r=BlankTileLocation(curr_node)[0]#row of zero\n",
    "    c=BlankTileLocation(curr_node)[1]#column of zero\n",
    "    if r!=0:\n",
    "        curr_node[r-1][c],curr_node[r][c] = curr_node[r][c],curr_node[r-1][c]#swapping elements\n",
    "        return(curr_node,True)#returning the current node and True, if Up is possible\n",
    "    else:\n",
    "        return(curr_node,False)#returning the current node and False, if Up is IMpossible"
   ]
  },
  {
   "cell_type": "code",
   "execution_count": 8,
   "metadata": {},
   "outputs": [],
   "source": [
    "def ActionMoveDown(curr_node):\n",
    "    r=BlankTileLocation(curr_node)[0]#row of zero\n",
    "    c=BlankTileLocation(curr_node)[1]#column of zero\n",
    "    if r!=2:\n",
    "        curr_node[r+1][c],curr_node[r][c] = curr_node[r][c],curr_node[r+1][c]#swapping elements\n",
    "        return(curr_node,True)#returning the current node and True, if Down is possible\n",
    "    else:\n",
    "        return(curr_node,False)#returning the current node and False, if Down is IMpossible"
   ]
  },
  {
   "cell_type": "code",
   "execution_count": 9,
   "metadata": {},
   "outputs": [],
   "source": [
    "#self made function to convert a 3 by 3 to a full list, to append into the global list\n",
    "def Mat2List(m):\n",
    "    p=[]\n",
    "    for i in m[0].tolist():\n",
    "            p = p +i\n",
    "    return p"
   ]
  },
  {
   "cell_type": "code",
   "execution_count": 10,
   "metadata": {},
   "outputs": [],
   "source": [
    "all_inversions = [] #empty list for the function below\n",
    "def check_solvability(s): #User defined Function to check the solvability of the given 8 puzzle problem \n",
    "    global all_inversions #defining a global variable\n",
    "    for i in s:\n",
    "        if i!=0:\n",
    "            count=0\n",
    "            s = s[s.index(i):] \n",
    "            for num in s:\n",
    "                if num < i and num!=0:\n",
    "                    count+=1\n",
    "            all_inversions.append(count) #adding elements to all_inversions list\n",
    "    counts=0\n",
    "    for val in all_inversions:\n",
    "        counts=counts + val\n",
    "    if counts%2==0:\n",
    "        \n",
    "        return (True) #returning True, if solvable\n",
    "    else:\n",
    "        return (False) #returning False, if unsolvable"
   ]
  },
  {
   "cell_type": "code",
   "execution_count": 11,
   "metadata": {},
   "outputs": [],
   "source": [
    "#Enter the start and the goal positions here, in the form of a list\n",
    "#For example:\n",
    "#[[2,4,3\n",
    "#7,8,0\n",
    "#6,1,5]]\n",
    "#will be entered as : >>>> [2,4,3,7,8,0,6,1,5]\n",
    "# The same is done with the desired goal posiiton\n",
    "\n",
    "s = [2,8,3,1,6,4,7,0,5] #starting position\n",
    "g = [1,2,3,8,0,4,7,6,5] #goal position"
   ]
  },
  {
   "cell_type": "code",
   "execution_count": 12,
   "metadata": {},
   "outputs": [],
   "source": [
    "global_node=[] #All the nodes traversed throughout the journey by the Blank Tile\n",
    "parent_node = [] #Immedietely previous node. Child node of 'layer 1' is the Parent Node of 'layer 2'\n",
    "back_track = {} #Backtracking dictionary\n",
    "i=0\n",
    "parent_node.append([s])\n",
    "goal_found = 0"
   ]
  },
  {
   "cell_type": "code",
   "execution_count": 13,
   "metadata": {},
   "outputs": [],
   "source": [
    "val = check_solvability(s) #variable that checks the solvability of the matrix"
   ]
  },
  {
   "cell_type": "code",
   "execution_count": 14,
   "metadata": {},
   "outputs": [],
   "source": [
    "#The function to check when the goal is reached. \n",
    "#Function also returns the path all the way from the beginning to the end, in the form of a matrix.\n",
    "def generate_path(s,g): \n",
    "    \n",
    "    global_node.append(s)\n",
    "    global val #calling the global val variable that checks the solvability of the matrix\n",
    "    global goal_found #calling the global goal_node variable\n",
    "    \n",
    "    if s==g: #checking if the starting and the ending points are the same\n",
    "        \n",
    "        print('GOAL IS REACHED BY DEFAULT!!')\n",
    "        print('If not intentional, please try again?')\n",
    "  \n",
    "    elif s!=g:\n",
    "        \n",
    "        if g == [1,2,3,4,5,6,7,8,0]:\n",
    "            \n",
    "            if (val == False):\n",
    "                \n",
    "                print('This puzzle cannot be solved into that desired goal, since its UNSOLVABLE!')\n",
    "                \n",
    "        else:\n",
    "            \n",
    "            count=1\n",
    "            \n",
    "            for c in parent_node: #for every element in the parent node\n",
    "                \n",
    "                if goal_found==[]:  #checking if thegoal is reached, when the list is empty\n",
    "                    break\n",
    "                    \n",
    "                else:\n",
    "                    \n",
    "                    print('The parent node is :>',c) #printing out the parent node\n",
    "                    parent_node.append([]) #appending an empty list to the parent node, so that the nodes are filled in subsequently\n",
    "                    print('The count is  >>> ', count)\n",
    "                    for i in c: #for ever element, inside every list of lists in the parent node\n",
    "\n",
    "                        l_copy=i.copy() #making a copy of the matrix, to move left\n",
    "                        l=ActionMoveLeft(PrintMatrix(l_copy))  #moving left\n",
    "                        l=Mat2List(l) #converting the output matrix to a list format, to be appended to the global node and the parent node mentioned above\n",
    "                        u_copy=i.copy() #making a copy of the matrix, to move up\n",
    "                        u=ActionMoveUp(PrintMatrix(u_copy)) #moving up\n",
    "                        u=Mat2List(u)#converting the output matrix to a list format, to be appended to the global node and the parent node mentioned above\n",
    "                        r_copy=i.copy() #making a copy of the matrix, to move right\n",
    "                        r=ActionMoveRight(PrintMatrix(r_copy)) #moving right\n",
    "                        r=Mat2List(r)#converting the output matrix to a list format, to be appended to the global node and the parent node mentioned above\n",
    "                        d_copy=i.copy() #making a copy of the matrix, to move down\n",
    "                        d=ActionMoveDown(PrintMatrix(d_copy)) #moving down\n",
    "                        d=Mat2List(d)#converting the output matrix to a list format, to be appended to the global node and the parent node mentioned above\n",
    "                        back_track[str(l_copy)] = [] #Adding a new empty value for the new Parent Node Key\n",
    "                        if l not in global_node : #checking if the value is already traversed\n",
    "                            back_track[str(l_copy)].append(l)#adding the Dictionary values of the respective PARENT NODE\n",
    "                        if l_copy!=u_copy: #checking the equality of the duplicates, i.e: copied values\n",
    "                            back_track[str(u_copy)] = []#Adding a new empty value for the new Parent Node Key\n",
    "                        if u not in global_node : #checking if the value is already traversed\n",
    "                            back_track[str(u_copy)].append(u)#adding the Dictionary values of the respective PARENT NODE\n",
    "                        if u_copy!=r_copy: #checking the equality of the duplicates, i.e: copied values\n",
    "                            back_track[str(r_copy)] = []#Adding a new empty value for the new Parent Node Key\n",
    "                        if r not in global_node : #checking if the value is already traversed\n",
    "                            back_track[str(r_copy)].append(r)#adding the Dictionary values of the respective PARENT NODE\n",
    "                        if r_copy!=d_copy: #checking the equality of the duplicates, i.e: copied values\n",
    "                            back_track[str(d_copy)] = []#Adding a new empty value for the new Parent Node Key\n",
    "                        if d not in global_node : #checking if the value is already traversed\n",
    "                            back_track[str(d_copy)].append(d)#adding the Dictionary values of the respective PARENT NODE\n",
    "                            \n",
    "                        if l not in global_node : #checking if the value is already traversed\n",
    "                            global_node.append(l) #appending to the global node \n",
    "                            parent_node[count].append(l)#appending to the parent node \n",
    "                        if u not in global_node: #checking if the value is already traversed\n",
    "                            global_node.append(u)#appending to the global node \n",
    "                            parent_node[count].append(u)#appending to the parent node \n",
    "                        if r not in global_node: #checking if the value is already traversed\n",
    "                            global_node.append(r)#appending to the global node \n",
    "                            parent_node[count].append(r)#appending to the parent node \n",
    "                        if d not in global_node: #checking if the value is already traversed\n",
    "                            global_node.append(d)#appending to the global node \n",
    "                            parent_node[count].append(d)#appending to the parent node\n",
    "\n",
    "                    for val in global_node: #checking if any of the matrices in THIS loop is a goal\n",
    "                        if val==g: #Boolean checking if case is True\n",
    "                            print('GOAL REACHED!!!') #printing the goal reached notification\n",
    "                            goal_found=[] #reinitializing the goal_found to an empty list\n",
    "\n",
    "                count+=1 #incrementing the count variable"
   ]
  },
  {
   "cell_type": "code",
   "execution_count": 15,
   "metadata": {
    "scrolled": true
   },
   "outputs": [
    {
     "name": "stdout",
     "output_type": "stream",
     "text": [
      "The parent node is :> [[2, 8, 3, 1, 6, 4, 7, 0, 5]]\n",
      "The count is  >>>  1\n",
      "The parent node is :> [[2, 8, 3, 1, 6, 4, 0, 7, 5], [2, 8, 3, 1, 0, 4, 7, 6, 5], [2, 8, 3, 1, 6, 4, 7, 5, 0]]\n",
      "The count is  >>>  2\n",
      "The parent node is :> [[2, 8, 3, 0, 6, 4, 1, 7, 5], [2, 8, 3, 0, 1, 4, 7, 6, 5], [2, 0, 3, 1, 8, 4, 7, 6, 5], [2, 8, 3, 1, 4, 0, 7, 6, 5], [2, 8, 3, 1, 6, 0, 7, 5, 4]]\n",
      "The count is  >>>  3\n",
      "The parent node is :> [[0, 8, 3, 2, 6, 4, 1, 7, 5], [2, 8, 3, 6, 0, 4, 1, 7, 5], [0, 8, 3, 2, 1, 4, 7, 6, 5], [2, 8, 3, 7, 1, 4, 0, 6, 5], [0, 2, 3, 1, 8, 4, 7, 6, 5], [2, 3, 0, 1, 8, 4, 7, 6, 5], [2, 8, 0, 1, 4, 3, 7, 6, 5], [2, 8, 3, 1, 4, 5, 7, 6, 0], [2, 8, 3, 1, 0, 6, 7, 5, 4], [2, 8, 0, 1, 6, 3, 7, 5, 4]]\n",
      "The count is  >>>  4\n",
      "The parent node is :> [[8, 0, 3, 2, 6, 4, 1, 7, 5], [2, 0, 3, 6, 8, 4, 1, 7, 5], [2, 8, 3, 6, 4, 0, 1, 7, 5], [2, 8, 3, 6, 7, 4, 1, 0, 5], [8, 0, 3, 2, 1, 4, 7, 6, 5], [2, 8, 3, 7, 1, 4, 6, 0, 5], [1, 2, 3, 0, 8, 4, 7, 6, 5], [2, 3, 4, 1, 8, 0, 7, 6, 5], [2, 0, 8, 1, 4, 3, 7, 6, 5], [2, 8, 3, 1, 4, 5, 7, 0, 6], [2, 8, 3, 0, 1, 6, 7, 5, 4], [2, 0, 3, 1, 8, 6, 7, 5, 4], [2, 8, 3, 1, 5, 6, 7, 0, 4], [2, 0, 8, 1, 6, 3, 7, 5, 4]]\n",
      "The count is  >>>  5\n",
      "GOAL REACHED!!!\n"
     ]
    }
   ],
   "source": [
    "generate_path(s,g) #calling the function with test cases, mentioned above"
   ]
  },
  {
   "cell_type": "code",
   "execution_count": 16,
   "metadata": {},
   "outputs": [],
   "source": [
    "#reversing and backtracking\n",
    "val_unchanged = g #just for appending at the end\n",
    "val = g #val variable, with value equal to the list of the goal matrix\n",
    "goal = s#goal variable, with value equal to the list of the sOriginal starting node\n",
    "back_track_list=[]#empty list where all the elements in the path of the back tracking rests\n",
    "while val!=goal:\n",
    "    for keys, values in back_track.items():    # for name, age in dictionary.iteritems():  (for Python 2.x)\n",
    "        while val in values:\n",
    "            keys= ast.literal_eval(keys) #for converting strings of lists, to pure lists\n",
    "            val = keys #previous key and values of the dictionary are interchanged\n",
    "            back_track_list.append(val) #appending the values to the backtracking list\n",
    "back_track_list=back_track_list[::-1] #reversing the list\n",
    "back_track_list.append(val_unchanged) #appending the start point to the list, to show complete paths of traversal"
   ]
  },
  {
   "cell_type": "code",
   "execution_count": 17,
   "metadata": {},
   "outputs": [],
   "source": [
    "#Making the transpose of all the matrices, to run them in the programme\n",
    "transposed_list = [] #empty transposed list\n",
    "for i in back_track_list:\n",
    "    m = PrintMatrix(i) \n",
    "    m = m.transpose()#doing np transform\n",
    "    new=[]\n",
    "    for i in m:\n",
    "        for d in i:\n",
    "            new.append(d)\n",
    "    transposed_list.append(new) #appending to the blank list"
   ]
  },
  {
   "cell_type": "code",
   "execution_count": 18,
   "metadata": {},
   "outputs": [],
   "source": [
    "#Contains the path from the start to the goal, in theat order\n",
    "# Open the file for writing nodePath.txt \n",
    "F = open('nodePath.txt', 'w')\n",
    "# List of numbers\n",
    "for c in transposed_list:\n",
    "    for i in c:\n",
    "        F.write(str(i)+' ')\n",
    "    F.write('\\n')\n",
    "# Close the file\n",
    "F.close() \n",
    "\n",
    "\n",
    "\n",
    "#Contains all the Paths ever traversed by the blank tile, here it is 0\n",
    "# Open the file for writing nodeInfo.txt\n",
    "F = open('Nodes.txt', 'w')\n",
    "# Writing all the global nodes to a list\n",
    "for i in range(len(global_node)):\n",
    "#     F.write(str(i))\n",
    "    F.write('\\t')\n",
    "    F.write(str(global_node[i]))\n",
    "    F.write('\\n')\n",
    "# Close the file\n",
    "F.close() \n",
    "\n",
    "\n",
    "F = open('NodesInfo.txt', 'w')\n",
    "# Writing all the global nodes to a list\n",
    "c=0\n",
    "for r in range(len(parent_node)):\n",
    "    l = len(parent_node[r])\n",
    "    for i in range(l):\n",
    "        c=c+1\n",
    "        F.write(str(r)+' \\t'+str(c-1))\n",
    "        F.write('\\n')\n",
    "F.write('\\n')\n",
    "# Close the file\n",
    "F.close() \n",
    "c=0\n"
   ]
  },
  {
   "cell_type": "code",
   "execution_count": 19,
   "metadata": {},
   "outputs": [
    {
     "name": "stdout",
     "output_type": "stream",
     "text": [
      "START\n",
      "\n",
      "\n",
      "[[2 8 3]\n",
      " [1 6 4]\n",
      " [7 0 5]]\n",
      "\n",
      "\n",
      "[[2 8 3]\n",
      " [1 0 4]\n",
      " [7 6 5]]\n",
      "\n",
      "\n",
      "[[2 0 3]\n",
      " [1 8 4]\n",
      " [7 6 5]]\n",
      "\n",
      "\n",
      "[[0 2 3]\n",
      " [1 8 4]\n",
      " [7 6 5]]\n",
      "\n",
      "\n",
      "[[1 2 3]\n",
      " [0 8 4]\n",
      " [7 6 5]]\n",
      "\n",
      "\n",
      "[[1 2 3]\n",
      " [8 0 4]\n",
      " [7 6 5]]\n",
      "\n",
      "\n",
      "GOAL\n"
     ]
    }
   ],
   "source": [
    "#Just for visulaization of the forward path\n",
    "print('START')\n",
    "print('\\n')\n",
    "for i in back_track_list:\n",
    "    print(PrintMatrix(i))\n",
    "    print('\\n')\n",
    "print('GOAL')"
   ]
  },
  {
   "cell_type": "code",
   "execution_count": 20,
   "metadata": {},
   "outputs": [
    {
     "name": "stdout",
     "output_type": "stream",
     "text": [
      "GOAL\n",
      "\n",
      "\n",
      "[[1 2 3]\n",
      " [8 0 4]\n",
      " [7 6 5]]\n",
      "\n",
      "\n",
      "[[1 2 3]\n",
      " [0 8 4]\n",
      " [7 6 5]]\n",
      "\n",
      "\n",
      "[[0 2 3]\n",
      " [1 8 4]\n",
      " [7 6 5]]\n",
      "\n",
      "\n",
      "[[2 0 3]\n",
      " [1 8 4]\n",
      " [7 6 5]]\n",
      "\n",
      "\n",
      "[[2 8 3]\n",
      " [1 0 4]\n",
      " [7 6 5]]\n",
      "\n",
      "\n",
      "[[2 8 3]\n",
      " [1 6 4]\n",
      " [7 0 5]]\n",
      "\n",
      "\n",
      "START\n"
     ]
    }
   ],
   "source": [
    "#Just for visulaization of the backwards path |BACKTRACKING\n",
    "print('GOAL')\n",
    "print('\\n')\n",
    "back_track_list=back_track_list[::-1]\n",
    "for i in back_track_list:\n",
    "    print(PrintMatrix(i))\n",
    "    print('\\n')\n",
    "print('START')"
   ]
  },
  {
   "cell_type": "code",
   "execution_count": null,
   "metadata": {},
   "outputs": [],
   "source": []
  }
 ],
 "metadata": {
  "kernelspec": {
   "display_name": "Python 3",
   "language": "python",
   "name": "python3"
  },
  "language_info": {
   "codemirror_mode": {
    "name": "ipython",
    "version": 3
   },
   "file_extension": ".py",
   "mimetype": "text/x-python",
   "name": "python",
   "nbconvert_exporter": "python",
   "pygments_lexer": "ipython3",
   "version": "3.7.3"
  }
 },
 "nbformat": 4,
 "nbformat_minor": 4
}
