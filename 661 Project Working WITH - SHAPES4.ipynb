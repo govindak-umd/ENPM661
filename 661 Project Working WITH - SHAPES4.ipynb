{
 "cells": [
  {
   "cell_type": "code",
   "execution_count": 1,
   "metadata": {},
   "outputs": [],
   "source": [
    "#Importing all the libraries\n",
    "import numpy as np\n",
    "import copy\n",
    "import ast #for converting strings of lists, to pure lists\n",
    "import math\n",
    "from collections import defaultdict\n",
    "import heapq\n",
    "from itertools import permutations \n",
    "from collections import OrderedDict\n",
    "import time\n",
    "import matplotlib.pyplot as plt\n",
    "import cv2"
   ]
  },
  {
   "cell_type": "code",
   "execution_count": 2,
   "metadata": {},
   "outputs": [],
   "source": [
    "#Getting the start time\n",
    "start_time = time.time()"
   ]
  },
  {
   "cell_type": "code",
   "execution_count": 3,
   "metadata": {},
   "outputs": [],
   "source": [
    "cost = 0\n",
    "def ActionMoveUp(curr_node):\n",
    "    x = curr_node[0]\n",
    "    y = curr_node[1]\n",
    "    curr_node = (x,y)\n",
    "    new_node=()\n",
    "    new_node_y = curr_node[0]\n",
    "    new_node_y-=1\n",
    "    new_node = (new_node_y,curr_node[1])\n",
    "    if new_node[0]>=0 and new_node[1]>=0:\n",
    "        return(new_node,True)\n",
    "    else:\n",
    "        return(curr_node,False)\n",
    "    \n",
    "def ActionMoveLeft(curr_node):\n",
    "    x = curr_node[0]\n",
    "    y = curr_node[1]\n",
    "    curr_node = (x,y)\n",
    "    new_node=()\n",
    "    new_node_x = curr_node[1]\n",
    "    new_node_x-=1\n",
    "    new_node = (curr_node[0],new_node_x)\n",
    "    if new_node[0]>=0 and new_node[1]>=0:\n",
    "        return(new_node,True)\n",
    "    else:\n",
    "        return(curr_node,False)\n",
    "    \n",
    "def ActionMoveRight(curr_node):\n",
    "    x = curr_node[0]\n",
    "    y = curr_node[1]\n",
    "    curr_node = (x,y)\n",
    "    new_node=()\n",
    "    new_node_x = curr_node[1]\n",
    "    new_node_x+=1\n",
    "    new_node = (curr_node[0],new_node_x)\n",
    "    if new_node[0]>=0 and new_node[1]>=0:\n",
    "        return(new_node,True)\n",
    "    else:\n",
    "        return(curr_node,False)\n",
    "    \n",
    "def ActionMoveDown(curr_node):\n",
    "    x = curr_node[0]\n",
    "    y = curr_node[1]\n",
    "    curr_node = (x,y)\n",
    "    new_node=()\n",
    "    new_node_y = curr_node[0]\n",
    "    new_node_y+=1\n",
    "    new_node = (new_node_y,curr_node[1])\n",
    "    if new_node[0]>=0 and new_node[1]>=0:\n",
    "        return(new_node,True)\n",
    "    else:\n",
    "        return(curr_node,False)\n",
    "    \n",
    "def ActionMoveTL(curr_node):\n",
    "    x = curr_node[0]\n",
    "    y = curr_node[1]\n",
    "    curr_node = (x,y)\n",
    "    new_node=()\n",
    "    new_node_y = curr_node[0]\n",
    "    new_node_y-=1\n",
    "    new_node_x = curr_node[1]\n",
    "    new_node_x-=1\n",
    "    new_node = (new_node_y,new_node_x)\n",
    "    if new_node[0]>=0 and new_node[1]>=0:\n",
    "        return(new_node,True)\n",
    "    else:\n",
    "        return(curr_node,False)\n",
    "def ActionMoveTR(curr_node):\n",
    "    x = curr_node[0]\n",
    "    y = curr_node[1]\n",
    "    curr_node = (x,y)\n",
    "    new_node=()\n",
    "    new_node_y = curr_node[0]\n",
    "    new_node_y-=1\n",
    "    new_node_x = curr_node[1]\n",
    "    new_node_x+=1\n",
    "    new_node = (new_node_y,new_node_x)\n",
    "    if new_node[0]>=0 and new_node[1]>=0:\n",
    "        return(new_node,True)\n",
    "    else:\n",
    "        return(curr_node,False)\n",
    "def ActionMoveDL(curr_node):\n",
    "    x = curr_node[0]\n",
    "    y = curr_node[1]\n",
    "    curr_node = (x,y)\n",
    "    new_node=()\n",
    "    new_node_y = curr_node[0]\n",
    "    new_node_y+=1\n",
    "    new_node_x = curr_node[1]\n",
    "    new_node_x-=1\n",
    "    new_node = (new_node_y,new_node_x)\n",
    "    if new_node[0]>=0 and new_node[1]>=0:\n",
    "        return(new_node,True)\n",
    "    else:\n",
    "        return(curr_node,False)\n",
    "\n",
    "def ActionMoveDR(curr_node):\n",
    "    x = curr_node[0]\n",
    "    y = curr_node[1]\n",
    "    curr_node = (x,y)\n",
    "    new_node=()\n",
    "    new_node_y = curr_node[0]\n",
    "    new_node_y+=1\n",
    "    new_node_x = curr_node[1]\n",
    "    new_node_x+=1\n",
    "    new_node = (new_node_y,new_node_x)\n",
    "    if new_node[0]>=0 and new_node[1]>=0:\n",
    "        return(new_node,True)\n",
    "    else:\n",
    "        return(curr_node,False)"
   ]
  },
  {
   "cell_type": "code",
   "execution_count": 4,
   "metadata": {},
   "outputs": [],
   "source": [
    "#giving a value to all coordinate points\n",
    "all_points = []\n",
    "count=0\n",
    "for i in range(0,301):\n",
    "    for j in range(201):\n",
    "        all_points.append((i,j))"
   ]
  },
  {
   "cell_type": "code",
   "execution_count": 5,
   "metadata": {},
   "outputs": [],
   "source": [
    "#showing what all nodes are connected to\n",
    "def generate_graph(start,size_x,size_y): #remember that this size_x and size_y are the sizes of the matrix, so not the end coordinates\n",
    "    i = start[0]\n",
    "    j = start[1]\n",
    "    if i <size_x and j<size_y:\n",
    "        graph={}\n",
    "        if i==0 and j==0: \n",
    "            graph[(i,j)]={(i+1,j+1),(i+1,j),(i,j+1)}\n",
    "        elif i==size_x-1 and j==size_y-1:\n",
    "            graph[(i,j)]={(i-1,j),(i-1,j-1),(i,j-1)}   \n",
    "        elif i==size_x-1 and j ==0:\n",
    "            graph[(i,j)]={(i-1,j),(i-1,j+1),(i,j+1)}   \n",
    "        elif j==size_y-1 and i ==0:\n",
    "            graph[(i,j)]={(i,j-1),(i+1,j-1),(i+1,j)} \n",
    "        elif i == 0 and j!=0 and j!=size_y-1:\n",
    "            graph[(i,j)]={(i,j-1),(i,j+1),(i+1,j-1),(i+1,j),(i+1,j+1)} \n",
    "        elif i == size_x-1 and j!=0 and j!=size_y-1:\n",
    "            graph[(i,j)]={(i,j-1),(i,j+1),(i-1,j-1),(i-1,j),(i-1,j+1)} \n",
    "        elif j == 0 and i!=0 and i!=size_x-1:\n",
    "            graph[(i,j)]={(i-1,j),(i+1,j),(i+1,j+1),(i,j+1),(i-1,j+1)} \n",
    "        elif j == size_y-1 and i!=0 and i!=size_x-1:\n",
    "            graph[(i,j)]={(i-1,j),(i+1,j),(i+1,j-1),(i,j-1),(i-1,j-1)} \n",
    "        else:\n",
    "            graph[(i,j)]={(i-1,j),(i-1,j+1),(i-1,j-1),(i+1,j-1),(i+1,j),(i+1,j+1),(i,j-1),(i,j+1)}\n",
    "        return(graph)\n",
    "    else:\n",
    "        pass"
   ]
  },
  {
   "cell_type": "code",
   "execution_count": 6,
   "metadata": {},
   "outputs": [],
   "source": [
    "# start = (0,0)\n",
    "# goal = (5,5)\n",
    "# M_X = 10\n",
    "# M_Y = 10"
   ]
  },
  {
   "cell_type": "code",
   "execution_count": 7,
   "metadata": {},
   "outputs": [],
   "source": [
    "# M_X+=1\n",
    "# M_Y+=1\n",
    "# main_graph = {}\n",
    "# for i in range(M_X-1,-1,-1):\n",
    "#     for j in range(M_Y-1,-1,-1):\n",
    "#         graph = generate_graph((i,j),M_X,M_Y)\n",
    "#         main_graph[(i,j)]=graph[(i,j)]\n",
    "# main_graph"
   ]
  },
  {
   "cell_type": "code",
   "execution_count": 8,
   "metadata": {},
   "outputs": [],
   "source": [
    "# lis = [(10,8),(9,10),(1,1),(4,5),(8,9)]"
   ]
  },
  {
   "cell_type": "code",
   "execution_count": 9,
   "metadata": {},
   "outputs": [],
   "source": [
    "# for key,value in main_graph.items():\n",
    "#     value_copy = value.copy()\n",
    "#     for coordinates in value_copy:\n",
    "#         if coordinates in lis:\n",
    "#             value.remove(coordinates) \n",
    "# main_graph_copy=main_graph.copy()\n",
    "# for key,value in main_graph_copy.items():\n",
    "#     if key in lis:\n",
    "#         del main_graph[key]"
   ]
  },
  {
   "cell_type": "code",
   "execution_count": 10,
   "metadata": {},
   "outputs": [],
   "source": [
    "# main_graph"
   ]
  },
  {
   "cell_type": "code",
   "execution_count": 11,
   "metadata": {},
   "outputs": [],
   "source": [
    "# main_graph"
   ]
  },
  {
   "cell_type": "code",
   "execution_count": 12,
   "metadata": {},
   "outputs": [],
   "source": [
    "def costs_calc(graph,start):\n",
    "    new_dic={}\n",
    "    for key,value in graph.items():\n",
    "        new_dic[key]={}\n",
    "        for neighbour in value:\n",
    "            R = ActionMoveRight(key)\n",
    "            L = ActionMoveLeft(key)\n",
    "            U =ActionMoveUp(key)\n",
    "            D = ActionMoveDown(key)\n",
    "            TL = ActionMoveTL(key)\n",
    "            TR =ActionMoveTR(key)\n",
    "            DL = ActionMoveDL(key)\n",
    "            DR = ActionMoveDR(key)\n",
    "            if (neighbour==R[0]) or (neighbour==L[0]) or (neighbour==U[0]) or (neighbour==D[0]):\n",
    "                new_dic[key][neighbour]=1\n",
    "            elif (neighbour==TL[0]) or (neighbour==TR[0]) or (neighbour==DL[0]) or (neighbour==DR[0]):\n",
    "                new_dic[key][neighbour]=1.414\n",
    "    return(new_dic)"
   ]
  },
  {
   "cell_type": "code",
   "execution_count": 13,
   "metadata": {},
   "outputs": [],
   "source": [
    "# costs_calculated = costs_calc(main_graph,start)"
   ]
  },
  {
   "cell_type": "code",
   "execution_count": 14,
   "metadata": {},
   "outputs": [],
   "source": [
    "# costs_calculated"
   ]
  },
  {
   "cell_type": "code",
   "execution_count": 15,
   "metadata": {},
   "outputs": [],
   "source": [
    "# actual_graph = costs_calculated"
   ]
  },
  {
   "cell_type": "code",
   "execution_count": 16,
   "metadata": {},
   "outputs": [],
   "source": [
    "all_distance = {}\n",
    "backtracking = {}\n",
    "visited = []\n",
    "check=0\n",
    "def dijkstraAlgorithm(graph,start):\n",
    "    all_distance[start]=0#when the function starts\n",
    "    global check\n",
    "    global visited\n",
    "    visited.append(start)\n",
    "    for vertex,edge in graph.items():\n",
    "        all_distance[vertex]=math.inf\n",
    "\n",
    "    priority_queue = [(0,start)]\n",
    "    while len(priority_queue)>0 and check!=[]:\n",
    "        curr_dist,curr_vert = heapq.heappop(priority_queue)\n",
    "        if curr_dist>all_distance[curr_vert]:\n",
    "            continue\n",
    "\n",
    "        for neighbour,cost in graph[curr_vert].items():\n",
    "            \n",
    "            distance = curr_dist + cost \n",
    "            if distance < all_distance[neighbour]:\n",
    "                backtracking[neighbour]={}\n",
    "                backtracking[neighbour][distance]=curr_vert\n",
    "                all_distance[neighbour]=distance\n",
    "                heapq.heappush(priority_queue, (distance, neighbour))\n",
    "                if neighbour not in visited:\n",
    "                    visited.append(neighbour)\n",
    "                    if neighbour==goal:\n",
    "                        print('GOAL REACHED')\n",
    "                        check=[]\n",
    "                        break\n",
    "    return(all_distance,visited,backtracking)     "
   ]
  },
  {
   "cell_type": "code",
   "execution_count": 17,
   "metadata": {},
   "outputs": [],
   "source": [
    "# all_distance"
   ]
  },
  {
   "cell_type": "code",
   "execution_count": 18,
   "metadata": {},
   "outputs": [],
   "source": [
    "# dijkstraAlgorithm(actual_graph,start) #can alter the start here  \n",
    "# # print('visited is : ',visited)"
   ]
  },
  {
   "cell_type": "code",
   "execution_count": 19,
   "metadata": {},
   "outputs": [],
   "source": [
    "# all_distance_copy = all_distance.copy()\n",
    "# for k,v in all_distance_copy.items():\n",
    "#     if all_distance_copy[k] == math.inf:\n",
    "#         del all_distance[k]"
   ]
  },
  {
   "cell_type": "code",
   "execution_count": 20,
   "metadata": {},
   "outputs": [],
   "source": [
    "# all_distance"
   ]
  },
  {
   "cell_type": "code",
   "execution_count": 21,
   "metadata": {
    "scrolled": true
   },
   "outputs": [],
   "source": [
    "# backtracking"
   ]
  },
  {
   "cell_type": "code",
   "execution_count": 22,
   "metadata": {},
   "outputs": [],
   "source": [
    "def back_tracking_func(backtrack_dict,goal,start):#goal is the starting point now and start is the goal point now\n",
    "    back_track_list = []\n",
    "    while goal!=[]:\n",
    "        for k,v in backtracking.items():\n",
    "            for k2,v2 in v.items():\n",
    "                if k==start:\n",
    "                    if v2 not in back_track_list:\n",
    "                        back_track_list.append(start)\n",
    "                    start=v2\n",
    "                    if v2==goal:\n",
    "                        goal=[]\n",
    "                        break\n",
    "    return(back_track_list)"
   ]
  },
  {
   "cell_type": "code",
   "execution_count": 23,
   "metadata": {},
   "outputs": [],
   "source": [
    "# back_track_list=back_tracking_func(backtracking,start,goal)"
   ]
  },
  {
   "cell_type": "code",
   "execution_count": 24,
   "metadata": {},
   "outputs": [],
   "source": [
    "# back_track_list"
   ]
  },
  {
   "cell_type": "code",
   "execution_count": 25,
   "metadata": {},
   "outputs": [],
   "source": [
    "def main_func(Maximum_size_x,Maximum_size_y,start,goal):\n",
    "    Maximum_size_x+=1\n",
    "    Maximum_size_y+=1\n",
    "    #giving a value to all coordinate points\n",
    "    all_points = []\n",
    "    for i in range(Maximum_size_x):\n",
    "        for j in range(Maximum_size_y):\n",
    "            all_points.append((i,j))\n",
    "    print('Length ofall_points')\n",
    "    print(len(all_points))\n",
    "    \n",
    "    list_of_all_points = [] #points that are in the shapes | obstacles\n",
    "    for c in all_points:\n",
    "        x = c[0]\n",
    "        y = c[1]\n",
    "        if((x-225)**2 + (y-150)**2 <= (25)**2):\n",
    "            list_of_all_points.append((x,y))\n",
    "\n",
    "        if(((x-150)**2)/40**2 +((y-100)**2)/20**2 <= 1):\n",
    "            list_of_all_points.append((x,y))\n",
    "\n",
    "        if y>=120 and y<=185 and x>=20 and x<=100:\n",
    "            if y-(13*x)<=-140:\n",
    "                if y-x>=100 or y+(6/5)*x>=210:\n",
    "                    if y-(6/5)*x>=30:\n",
    "                        if y+(7/5)*x<=290:\n",
    "                            list_of_all_points.append((x,y))\n",
    "        if y-(8/5)*x>=-122 and y+(38/65)*x<=(1254/13) and y-(9/5)*x<=13 and y+(37/65)*x>=(1093/13):\n",
    "            list_of_all_points.append((x,y))\n",
    "\n",
    "        if y-(3/5)*x<=-95 and y+(3/5)*x<=175 and y-(3/5)*x>=-125 and y+(3/5)*x>=145:\n",
    "            list_of_all_points.append((x,y))\n",
    "            \n",
    "    print(' Length of list_of_all_points with the shape is : ')\n",
    "    print(len(list_of_all_points))\n",
    "    \n",
    "    base_graph = {}\n",
    "    for i in range(Maximum_size_x-1,-1,-1):\n",
    "        for j in range(Maximum_size_y-1,-1,-1):\n",
    "            graph = generate_graph((i,j),Maximum_size_x,Maximum_size_y)\n",
    "            base_graph[(i,j)]=graph[(i,j)]\n",
    "            \n",
    "    print('Length of base_graph BEFORE removing')\n",
    "    print(len(base_graph))\n",
    "    \n",
    "    for key,value in base_graph.items():\n",
    "        value_copy = value.copy()\n",
    "        for coordinates in value_copy:\n",
    "            if coordinates in list_of_all_points:\n",
    "                value.remove(coordinates) \n",
    "    base_graph_copy=base_graph.copy()\n",
    "    for key,value in base_graph_copy.items():\n",
    "        if key in list_of_all_points:\n",
    "            del base_graph[key]\n",
    "            \n",
    "    print('Length of base_graph AFTER removing')\n",
    "    print(len(base_graph))\n",
    "    \n",
    "    costs_calculated = costs_calc(base_graph,start)\n",
    "    actual_graph = costs_calculated\n",
    "    all_distance = {}\n",
    "    backtracking = {}\n",
    "    visited = []\n",
    "    all_distance,visited,backtracking= dijkstraAlgorithm(actual_graph,start) #can alter the start here\n",
    "    all_distance_copy = all_distance.copy()\n",
    "    for k,v in all_distance_copy.items():\n",
    "        if all_distance_copy[k] == math.inf:\n",
    "            del all_distance[k]\n",
    "    return(all_distance,visited,backtracking,list_of_all_points)"
   ]
  },
  {
   "cell_type": "code",
   "execution_count": 26,
   "metadata": {},
   "outputs": [
    {
     "name": "stdout",
     "output_type": "stream",
     "text": [
      "Length ofall_points\n",
      "60501\n",
      " Length of list_of_all_points with the shape is : \n",
      "9424\n",
      "Length of base_graph BEFORE removing\n",
      "60501\n",
      "Length of base_graph AFTER removing\n",
      "51077\n",
      "GOAL REACHED\n"
     ]
    }
   ],
   "source": [
    "start = (5,5)\n",
    "goal =  (150,150)\n",
    "Maximum_size_x = 300\n",
    "Maximum_size_y = 200\n",
    "a,v,b,l= main_func(Maximum_size_x,Maximum_size_y,start,goal) #l is the list of points in the obstacle\n",
    "# NOTE :: :: :: :: \n",
    "# a = all the distances of every node from every other node\n",
    "#v = list of all visited nodes\n",
    "#b = dictionary of all backtracked elements"
   ]
  },
  {
   "cell_type": "code",
   "execution_count": 27,
   "metadata": {},
   "outputs": [],
   "source": [
    "def back_tracking_func(backtrack_dict,goal,start):#goal is the starting point now and start is the goal point now\n",
    "    back_track_list = []\n",
    "    back_track_list.append(start)\n",
    "    while goal!=[]:\n",
    "        for k,v in backtracking.items():\n",
    "            for k2,v2 in v.items():\n",
    "                if k==start:\n",
    "                    start=v2\n",
    "                    if v2 not in back_track_list:\n",
    "                        back_track_list.append(start)\n",
    "                    if v2==goal:\n",
    "                        goal=[]\n",
    "                        break\n",
    "    return(back_track_list)"
   ]
  },
  {
   "cell_type": "code",
   "execution_count": 28,
   "metadata": {},
   "outputs": [
    {
     "name": "stdout",
     "output_type": "stream",
     "text": [
      "[(150, 150), (149, 149), (148, 148), (147, 147), (146, 146), (145, 145), (144, 144), (143, 143), (142, 142), (141, 141), (140, 140), (139, 139), (138, 138), (137, 137), (136, 136), (135, 135), (134, 134), (133, 133), (132, 132), (131, 131), (130, 130), (129, 129), (128, 128), (127, 127), (126, 126), (125, 125), (124, 124), (123, 123), (122, 122), (121, 121), (120, 120), (119, 119), (118, 118), (117, 117), (116, 116), (115, 115), (114, 114), (113, 113), (112, 112), (111, 111), (110, 110), (109, 109), (108, 108), (107, 107), (106, 106), (105, 105), (104, 104), (103, 103), (102, 102), (101, 101), (100, 100), (99, 99), (98, 98), (97, 97), (96, 96), (95, 95), (94, 94), (93, 93), (92, 92), (91, 91), (90, 90), (89, 89), (88, 88), (87, 87), (86, 86), (85, 85), (84, 84), (83, 83), (82, 82), (81, 81), (80, 80), (79, 79), (78, 78), (77, 77), (76, 77), (75, 77), (74, 77), (73, 77), (72, 77), (71, 77), (70, 77), (69, 77), (68, 77), (67, 77), (66, 77), (65, 77), (64, 77), (63, 77), (62, 77), (61, 77), (60, 77), (59, 77), (58, 77), (57, 77), (56, 77), (55, 77), (54, 77), (53, 77), (52, 77), (51, 77), (50, 77), (49, 77), (48, 77), (47, 77), (46, 77), (45, 77), (44, 77), (43, 77), (42, 77), (41, 77), (40, 77), (39, 77), (38, 77), (37, 77), (36, 77), (35, 77), (34, 76), (33, 75), (32, 74), (31, 73), (30, 72), (29, 71), (28, 70), (27, 69), (26, 68), (25, 67), (24, 66), (23, 65), (22, 64), (21, 63), (20, 62), (19, 61), (18, 60), (17, 59), (16, 58), (16, 57), (16, 56), (16, 55), (16, 54), (16, 53), (16, 52), (16, 51), (16, 50), (16, 49), (16, 48), (16, 47), (16, 46), (16, 45), (16, 44), (16, 43), (16, 42), (16, 41), (16, 40), (16, 39), (16, 38), (16, 37), (16, 36), (16, 35), (16, 34), (16, 33), (15, 32), (15, 31), (15, 30), (15, 29), (15, 28), (15, 27), (15, 26), (15, 25), (15, 24), (15, 23), (15, 22), (15, 21), (15, 20), (15, 19), (15, 18), (14, 17), (13, 16), (12, 15), (11, 14), (10, 13), (9, 12), (8, 11), (7, 10), (6, 9), (5, 8), (5, 7), (5, 6), (5, 5), (4, 5)]\n",
      "Total Time Taken :  144.73386645317078 seconds\n"
     ]
    }
   ],
   "source": [
    "backtracked_final = back_tracking_func(b,start,goal)\n",
    "print(backtracked_final)\n",
    "print(\"Total Time Taken : \",time.time() - start_time, \"seconds\")"
   ]
  },
  {
   "cell_type": "code",
   "execution_count": 29,
   "metadata": {},
   "outputs": [],
   "source": [
    "# c = np.zeros((300,200,3),np.uint8)\n",
    "# for val in backtracked_final:\n",
    "#     c[val] = [255,0,255]\n",
    "# plt.imshow(c)"
   ]
  },
  {
   "cell_type": "code",
   "execution_count": 30,
   "metadata": {},
   "outputs": [],
   "source": [
    "list_of_all_points = [] #points that are in the shapes | obstacles\n",
    "for c in all_points:\n",
    "    x = c[0]\n",
    "    y = c[1]\n",
    "    if((x-225)**2 + (y-150)**2 <= (25)**2):\n",
    "        list_of_all_points.append((x,y))\n",
    "        \n",
    "    if(((x-150)**2)/40**2 +((y-100)**2)/20**2 <= 1):\n",
    "        list_of_all_points.append((x,y))\n",
    "    \n",
    "    if y>=120 and y<=185 and x>=20 and x<=100:\n",
    "        if y-(13*x)<=-140:\n",
    "            if y-x>=100 or y+(6/5)*x>=210:\n",
    "                if y-(6/5)*x>=30:\n",
    "                    if y+(7/5)*x<=290:\n",
    "                        list_of_all_points.append((x,y))\n",
    "    if y-(8/5)*x>=-122 and y+(38/65)*x<=(1254/13) and y-(9/5)*x<=13 and y+(37/65)*x>=(1093/13):\n",
    "        list_of_all_points.append((x,y))\n",
    "    \n",
    "    if y-(3/5)*x<=-95 and y+(3/5)*x<=175 and y-(3/5)*x>=-125 and y+(3/5)*x>=145:\n",
    "        list_of_all_points.append((x,y))\n",
    "        \n",
    "new_canvas = np.zeros((201,301,3),np.uint8)\n",
    "for c in list_of_all_points:\n",
    "    x = c[1]\n",
    "    y = c[0]\n",
    "    new_canvas[(x,y)]=[0,255,255]\n",
    "# new_canvas = cv2.flip(new_canvas,0)\n",
    "new_canvas = np.flipud(new_canvas)\n",
    "new_canvas_copy_backtrack = new_canvas.copy()\n",
    "new_canvas_copy_visited = new_canvas.copy()\n",
    "cv2.imshow('new_canvas',new_canvas)\n",
    "cv2.waitKey(0)\n",
    "cv2.destroyAllWindows()"
   ]
  },
  {
   "cell_type": "code",
   "execution_count": 44,
   "metadata": {},
   "outputs": [],
   "source": [
    "#backtracked path\n",
    "for path in backtracked_final:\n",
    "    x = path[0]\n",
    "    y = abs(200-path[1])\n",
    "    new_canvas_copy_backtrack[(y,x)]=[0,255,0]\n",
    "cv2.imshow('Backtracked',new_canvas_copy_backtrack)\n",
    "cv2.waitKey(0)\n",
    "cv2.destroyAllWindows()"
   ]
  },
  {
   "cell_type": "code",
   "execution_count": 32,
   "metadata": {},
   "outputs": [],
   "source": [
    "\n",
    "fourcc = cv2.VideoWriter_fourcc(*'mp4v') \n",
    "video=cv2.VideoWriter('video_1.avi', fourcc, 1,(300,200))#all visited area\n",
    "for path in v:\n",
    "    if path not in list_of_all_points:\n",
    "        x = path[0]\n",
    "        y = abs(200-path[1])\n",
    "        new_canvas_copy_visited[(y,x)]=[255,255,255]\n",
    "        \n",
    "        #video.write(new_canvas_copy_visited)\n",
    "        #time.sleep(1)\n",
    "        cv2.imshow('Visited Nodes',new_canvas_copy_visited)\n",
    "\n",
    "cv2.waitKey(0)\n",
    "cv2.destroyAllWindows()"
   ]
  },
  {
   "cell_type": "code",
   "execution_count": 33,
   "metadata": {},
   "outputs": [],
   "source": [
    "img = np.zeros((300,300,3),np.uint8)"
   ]
  },
  {
   "cell_type": "code",
   "execution_count": 34,
   "metadata": {},
   "outputs": [],
   "source": [
    "# count=0\n",
    "# while count<10:\n",
    "#         img[200,200] = [0,0,255]\n",
    "#         cv2.imshow('test',img)\n",
    "#         count+=1\n",
    "#         time.sleep(1)\n",
    "# cv2.waitKey(0)\n",
    "# cv2.destroyAllWindows()\n"
   ]
  },
  {
   "cell_type": "code",
   "execution_count": 50,
   "metadata": {},
   "outputs": [],
   "source": [
    "import pygame\n",
    "\n",
    "\n",
    "pygame.init()\n",
    "\n",
    "display_width = 300\n",
    "display_height = 200\n",
    "\n",
    "gameDisplay = pygame.display.set_mode((display_width,display_height))\n",
    "pygame.display.set_caption('Djikstra')\n",
    "\n",
    "black = (0,0,0)\n",
    "white = (255,255,255)\n",
    "#new = np.array(new_canvas_copy_visited)\n",
    "surf = pygame.surfarray.make_surface(new_canvas_copy_visited)\n",
    "\n",
    "clock = pygame.time.Clock()\n",
    "done = False\n",
    "while not done:\n",
    "    for event in pygame.event.get():   \n",
    "        if event.type == pygame.QUIT:  \n",
    "            done = True   \n",
    " \n",
    "    gameDisplay.fill(black)\n",
    "    for path in v:\n",
    "        if path not in list_of_all_points:\n",
    "            x = path[0]\n",
    "            y = abs(200-path[1])\n",
    "            #gameDisplay.blit(surf, (x,y))\n",
    "            #gameDisplay.fill(white)\n",
    "            pygame.draw.rect(gameDisplay, white, [x,y,2,2])\n",
    "            pygame.display.flip()\n",
    "\n",
    "    pygame.time.wait(14)\n",
    "    done = True\n",
    "pygame.quit()"
   ]
  },
  {
   "cell_type": "code",
   "execution_count": null,
   "metadata": {},
   "outputs": [],
   "source": []
  },
  {
   "cell_type": "code",
   "execution_count": null,
   "metadata": {},
   "outputs": [],
   "source": []
  }
 ],
 "metadata": {
  "kernelspec": {
   "display_name": "Python 3",
   "language": "python",
   "name": "python3"
  },
  "language_info": {
   "codemirror_mode": {
    "name": "ipython",
    "version": 3
   },
   "file_extension": ".py",
   "mimetype": "text/x-python",
   "name": "python",
   "nbconvert_exporter": "python",
   "pygments_lexer": "ipython3",
   "version": "3.7.3"
  }
 },
 "nbformat": 4,
 "nbformat_minor": 4
}
